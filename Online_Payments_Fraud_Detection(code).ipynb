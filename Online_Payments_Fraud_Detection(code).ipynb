{
  "cells": [
    {
      "cell_type": "markdown",
      "metadata": {
        "id": "dUX7UJ1eAQyn"
      },
      "source": [
        "# Online Payments Fraud Detection\n",
        "\n",
        "\n",
        "\n"
      ]
    },
    {
      "cell_type": "markdown",
      "metadata": {
        "id": "ouLbBUJbWz1T"
      },
      "source": [
        "## visualizing and analyzing the data"
      ]
    },
    {
      "cell_type": "markdown",
      "metadata": {
        "id": "8SHgEudLALHy"
      },
      "source": [
        "### activity1: Importing Libraries¶"
      ]
    },
    {
      "cell_type": "code",
      "execution_count": 1,
      "metadata": {
        "id": "PYUTKNgFHYE0"
      },
      "outputs": [],
      "source": [
        "import numpy as np\n",
        "import pandas as pd\n",
        "import matplotlib.pyplot as plt\n",
        "import seaborn as sns\n",
        "from scipy import stats\n",
        "from sklearn.preprocessing import LabelEncoder\n",
        "from sklearn.model_selection import train_test_split\n",
        "from sklearn.ensemble import RandomForestClassifier\n",
        "from sklearn.metrics import accuracy_score\n",
        "from sklearn.tree import DecisionTreeClassifier\n",
        "from sklearn.ensemble import ExtraTreesClassifier\n",
        "from sklearn.svm import SVC\n",
        "import xgboost as xgb\n",
        "from sklearn.metrics import f1_score\n",
        "from sklearn.metrics import classification_report, confusion_matrix\n",
        "import warnings\n",
        "import pickle"
      ]
    },
    {
      "cell_type": "markdown",
      "metadata": {
        "id": "yGQ4U-ywAwP7"
      },
      "source": [
        "### activity2:  Reading the csv data"
      ]
    },
    {
      "cell_type": "code",
      "execution_count": 2,
      "metadata": {
        "id": "7Bmf552fHjOl"
      },
      "outputs": [],
      "source": [
        "# Reading the csv data\n",
        "df = pd.read_csv(r'E:\\\\6th sem major project\\\\Final Project\\\\OnlineFraudData.csv')"
      ]
    },
    {
      "cell_type": "code",
      "execution_count": 3,
      "metadata": {
        "colab": {
          "base_uri": "https://localhost:8080/",
          "height": 488
        },
        "id": "9UwIhq8rTZG0",
        "outputId": "aafa45ce-3e41-4550-a6c0-6d6c6cc49ac8"
      },
      "outputs": [
        {
          "data": {
            "text/html": [
              "<div>\n",
              "<style scoped>\n",
              "    .dataframe tbody tr th:only-of-type {\n",
              "        vertical-align: middle;\n",
              "    }\n",
              "\n",
              "    .dataframe tbody tr th {\n",
              "        vertical-align: top;\n",
              "    }\n",
              "\n",
              "    .dataframe thead th {\n",
              "        text-align: right;\n",
              "    }\n",
              "</style>\n",
              "<table border=\"1\" class=\"dataframe\">\n",
              "  <thead>\n",
              "    <tr style=\"text-align: right;\">\n",
              "      <th></th>\n",
              "      <th>step</th>\n",
              "      <th>type</th>\n",
              "      <th>amount</th>\n",
              "      <th>nameOrig</th>\n",
              "      <th>oldbalanceOrg</th>\n",
              "      <th>newbalanceOrig</th>\n",
              "      <th>nameDest</th>\n",
              "      <th>oldbalanceDest</th>\n",
              "      <th>newbalanceDest</th>\n",
              "      <th>isFraud</th>\n",
              "      <th>isFlaggedFraud</th>\n",
              "    </tr>\n",
              "  </thead>\n",
              "  <tbody>\n",
              "    <tr>\n",
              "      <th>0</th>\n",
              "      <td>1</td>\n",
              "      <td>PAYMENT</td>\n",
              "      <td>9839.64</td>\n",
              "      <td>C1231006815</td>\n",
              "      <td>170136.00</td>\n",
              "      <td>160296.36</td>\n",
              "      <td>M1979787155</td>\n",
              "      <td>0.00</td>\n",
              "      <td>0.00</td>\n",
              "      <td>0</td>\n",
              "      <td>0</td>\n",
              "    </tr>\n",
              "    <tr>\n",
              "      <th>1</th>\n",
              "      <td>1</td>\n",
              "      <td>PAYMENT</td>\n",
              "      <td>1864.28</td>\n",
              "      <td>C1666544295</td>\n",
              "      <td>21249.00</td>\n",
              "      <td>19384.72</td>\n",
              "      <td>M2044282225</td>\n",
              "      <td>0.00</td>\n",
              "      <td>0.00</td>\n",
              "      <td>0</td>\n",
              "      <td>0</td>\n",
              "    </tr>\n",
              "    <tr>\n",
              "      <th>2</th>\n",
              "      <td>1</td>\n",
              "      <td>TRANSFER</td>\n",
              "      <td>181.00</td>\n",
              "      <td>C1305486145</td>\n",
              "      <td>181.00</td>\n",
              "      <td>0.00</td>\n",
              "      <td>C553264065</td>\n",
              "      <td>0.00</td>\n",
              "      <td>0.00</td>\n",
              "      <td>1</td>\n",
              "      <td>0</td>\n",
              "    </tr>\n",
              "    <tr>\n",
              "      <th>3</th>\n",
              "      <td>1</td>\n",
              "      <td>CASH_OUT</td>\n",
              "      <td>181.00</td>\n",
              "      <td>C840083671</td>\n",
              "      <td>181.00</td>\n",
              "      <td>0.00</td>\n",
              "      <td>C38997010</td>\n",
              "      <td>21182.00</td>\n",
              "      <td>0.00</td>\n",
              "      <td>1</td>\n",
              "      <td>0</td>\n",
              "    </tr>\n",
              "    <tr>\n",
              "      <th>4</th>\n",
              "      <td>1</td>\n",
              "      <td>PAYMENT</td>\n",
              "      <td>11668.14</td>\n",
              "      <td>C2048537720</td>\n",
              "      <td>41554.00</td>\n",
              "      <td>29885.86</td>\n",
              "      <td>M1230701703</td>\n",
              "      <td>0.00</td>\n",
              "      <td>0.00</td>\n",
              "      <td>0</td>\n",
              "      <td>0</td>\n",
              "    </tr>\n",
              "    <tr>\n",
              "      <th>...</th>\n",
              "      <td>...</td>\n",
              "      <td>...</td>\n",
              "      <td>...</td>\n",
              "      <td>...</td>\n",
              "      <td>...</td>\n",
              "      <td>...</td>\n",
              "      <td>...</td>\n",
              "      <td>...</td>\n",
              "      <td>...</td>\n",
              "      <td>...</td>\n",
              "      <td>...</td>\n",
              "    </tr>\n",
              "    <tr>\n",
              "      <th>1048570</th>\n",
              "      <td>95</td>\n",
              "      <td>CASH_OUT</td>\n",
              "      <td>132557.35</td>\n",
              "      <td>C1179511630</td>\n",
              "      <td>479803.00</td>\n",
              "      <td>347245.65</td>\n",
              "      <td>C435674507</td>\n",
              "      <td>484329.37</td>\n",
              "      <td>616886.72</td>\n",
              "      <td>0</td>\n",
              "      <td>0</td>\n",
              "    </tr>\n",
              "    <tr>\n",
              "      <th>1048571</th>\n",
              "      <td>95</td>\n",
              "      <td>PAYMENT</td>\n",
              "      <td>9917.36</td>\n",
              "      <td>C1956161225</td>\n",
              "      <td>90545.00</td>\n",
              "      <td>80627.64</td>\n",
              "      <td>M668364942</td>\n",
              "      <td>0.00</td>\n",
              "      <td>0.00</td>\n",
              "      <td>0</td>\n",
              "      <td>0</td>\n",
              "    </tr>\n",
              "    <tr>\n",
              "      <th>1048572</th>\n",
              "      <td>95</td>\n",
              "      <td>PAYMENT</td>\n",
              "      <td>14140.05</td>\n",
              "      <td>C2037964975</td>\n",
              "      <td>20545.00</td>\n",
              "      <td>6404.95</td>\n",
              "      <td>M1355182933</td>\n",
              "      <td>0.00</td>\n",
              "      <td>0.00</td>\n",
              "      <td>0</td>\n",
              "      <td>0</td>\n",
              "    </tr>\n",
              "    <tr>\n",
              "      <th>1048573</th>\n",
              "      <td>95</td>\n",
              "      <td>PAYMENT</td>\n",
              "      <td>10020.05</td>\n",
              "      <td>C1633237354</td>\n",
              "      <td>90605.00</td>\n",
              "      <td>80584.95</td>\n",
              "      <td>M1964992463</td>\n",
              "      <td>0.00</td>\n",
              "      <td>0.00</td>\n",
              "      <td>0</td>\n",
              "      <td>0</td>\n",
              "    </tr>\n",
              "    <tr>\n",
              "      <th>1048574</th>\n",
              "      <td>95</td>\n",
              "      <td>PAYMENT</td>\n",
              "      <td>11450.03</td>\n",
              "      <td>C1264356443</td>\n",
              "      <td>80584.95</td>\n",
              "      <td>69134.92</td>\n",
              "      <td>M677577406</td>\n",
              "      <td>0.00</td>\n",
              "      <td>0.00</td>\n",
              "      <td>0</td>\n",
              "      <td>0</td>\n",
              "    </tr>\n",
              "  </tbody>\n",
              "</table>\n",
              "<p>1048575 rows × 11 columns</p>\n",
              "</div>"
            ],
            "text/plain": [
              "         step      type     amount     nameOrig  oldbalanceOrg  \\\n",
              "0           1   PAYMENT    9839.64  C1231006815      170136.00   \n",
              "1           1   PAYMENT    1864.28  C1666544295       21249.00   \n",
              "2           1  TRANSFER     181.00  C1305486145         181.00   \n",
              "3           1  CASH_OUT     181.00   C840083671         181.00   \n",
              "4           1   PAYMENT   11668.14  C2048537720       41554.00   \n",
              "...       ...       ...        ...          ...            ...   \n",
              "1048570    95  CASH_OUT  132557.35  C1179511630      479803.00   \n",
              "1048571    95   PAYMENT    9917.36  C1956161225       90545.00   \n",
              "1048572    95   PAYMENT   14140.05  C2037964975       20545.00   \n",
              "1048573    95   PAYMENT   10020.05  C1633237354       90605.00   \n",
              "1048574    95   PAYMENT   11450.03  C1264356443       80584.95   \n",
              "\n",
              "         newbalanceOrig     nameDest  oldbalanceDest  newbalanceDest  isFraud  \\\n",
              "0             160296.36  M1979787155            0.00            0.00        0   \n",
              "1              19384.72  M2044282225            0.00            0.00        0   \n",
              "2                  0.00   C553264065            0.00            0.00        1   \n",
              "3                  0.00    C38997010        21182.00            0.00        1   \n",
              "4              29885.86  M1230701703            0.00            0.00        0   \n",
              "...                 ...          ...             ...             ...      ...   \n",
              "1048570       347245.65   C435674507       484329.37       616886.72        0   \n",
              "1048571        80627.64   M668364942            0.00            0.00        0   \n",
              "1048572         6404.95  M1355182933            0.00            0.00        0   \n",
              "1048573        80584.95  M1964992463            0.00            0.00        0   \n",
              "1048574        69134.92   M677577406            0.00            0.00        0   \n",
              "\n",
              "         isFlaggedFraud  \n",
              "0                     0  \n",
              "1                     0  \n",
              "2                     0  \n",
              "3                     0  \n",
              "4                     0  \n",
              "...                 ...  \n",
              "1048570               0  \n",
              "1048571               0  \n",
              "1048572               0  \n",
              "1048573               0  \n",
              "1048574               0  \n",
              "\n",
              "[1048575 rows x 11 columns]"
            ]
          },
          "execution_count": 3,
          "metadata": {},
          "output_type": "execute_result"
        }
      ],
      "source": [
        "df"
      ]
    },
    {
      "cell_type": "code",
      "execution_count": 4,
      "metadata": {
        "colab": {
          "base_uri": "https://localhost:8080/"
        },
        "id": "mFS_lUBkICTz",
        "outputId": "e8e168f2-448d-4090-b129-5b8ee0b42df4"
      },
      "outputs": [
        {
          "data": {
            "text/plain": [
              "Index(['step', 'type', 'amount', 'nameOrig', 'oldbalanceOrg', 'newbalanceOrig',\n",
              "       'nameDest', 'oldbalanceDest', 'newbalanceDest', 'isFraud',\n",
              "       'isFlaggedFraud'],\n",
              "      dtype='object')"
            ]
          },
          "execution_count": 4,
          "metadata": {},
          "output_type": "execute_result"
        }
      ],
      "source": [
        "df.columns"
      ]
    },
    {
      "cell_type": "code",
      "execution_count": 5,
      "metadata": {
        "id": "juygFTLcINVu"
      },
      "outputs": [],
      "source": [
        "df.drop(['isFlaggedFraud'],axis = 1, inplace = True)"
      ]
    },
    {
      "cell_type": "code",
      "execution_count": 6,
      "metadata": {
        "colab": {
          "base_uri": "https://localhost:8080/",
          "height": 424
        },
        "id": "zTwTbU8cKdUO",
        "outputId": "8684cf1f-5949-4b9b-faf6-f0cbeb791760"
      },
      "outputs": [
        {
          "data": {
            "text/html": [
              "<div>\n",
              "<style scoped>\n",
              "    .dataframe tbody tr th:only-of-type {\n",
              "        vertical-align: middle;\n",
              "    }\n",
              "\n",
              "    .dataframe tbody tr th {\n",
              "        vertical-align: top;\n",
              "    }\n",
              "\n",
              "    .dataframe thead th {\n",
              "        text-align: right;\n",
              "    }\n",
              "</style>\n",
              "<table border=\"1\" class=\"dataframe\">\n",
              "  <thead>\n",
              "    <tr style=\"text-align: right;\">\n",
              "      <th></th>\n",
              "      <th>step</th>\n",
              "      <th>type</th>\n",
              "      <th>amount</th>\n",
              "      <th>nameOrig</th>\n",
              "      <th>oldbalanceOrg</th>\n",
              "      <th>newbalanceOrig</th>\n",
              "      <th>nameDest</th>\n",
              "      <th>oldbalanceDest</th>\n",
              "      <th>newbalanceDest</th>\n",
              "      <th>isFraud</th>\n",
              "    </tr>\n",
              "  </thead>\n",
              "  <tbody>\n",
              "    <tr>\n",
              "      <th>0</th>\n",
              "      <td>1</td>\n",
              "      <td>PAYMENT</td>\n",
              "      <td>9839.64</td>\n",
              "      <td>C1231006815</td>\n",
              "      <td>170136.00</td>\n",
              "      <td>160296.36</td>\n",
              "      <td>M1979787155</td>\n",
              "      <td>0.00</td>\n",
              "      <td>0.00</td>\n",
              "      <td>0</td>\n",
              "    </tr>\n",
              "    <tr>\n",
              "      <th>1</th>\n",
              "      <td>1</td>\n",
              "      <td>PAYMENT</td>\n",
              "      <td>1864.28</td>\n",
              "      <td>C1666544295</td>\n",
              "      <td>21249.00</td>\n",
              "      <td>19384.72</td>\n",
              "      <td>M2044282225</td>\n",
              "      <td>0.00</td>\n",
              "      <td>0.00</td>\n",
              "      <td>0</td>\n",
              "    </tr>\n",
              "    <tr>\n",
              "      <th>2</th>\n",
              "      <td>1</td>\n",
              "      <td>TRANSFER</td>\n",
              "      <td>181.00</td>\n",
              "      <td>C1305486145</td>\n",
              "      <td>181.00</td>\n",
              "      <td>0.00</td>\n",
              "      <td>C553264065</td>\n",
              "      <td>0.00</td>\n",
              "      <td>0.00</td>\n",
              "      <td>1</td>\n",
              "    </tr>\n",
              "    <tr>\n",
              "      <th>3</th>\n",
              "      <td>1</td>\n",
              "      <td>CASH_OUT</td>\n",
              "      <td>181.00</td>\n",
              "      <td>C840083671</td>\n",
              "      <td>181.00</td>\n",
              "      <td>0.00</td>\n",
              "      <td>C38997010</td>\n",
              "      <td>21182.00</td>\n",
              "      <td>0.00</td>\n",
              "      <td>1</td>\n",
              "    </tr>\n",
              "    <tr>\n",
              "      <th>4</th>\n",
              "      <td>1</td>\n",
              "      <td>PAYMENT</td>\n",
              "      <td>11668.14</td>\n",
              "      <td>C2048537720</td>\n",
              "      <td>41554.00</td>\n",
              "      <td>29885.86</td>\n",
              "      <td>M1230701703</td>\n",
              "      <td>0.00</td>\n",
              "      <td>0.00</td>\n",
              "      <td>0</td>\n",
              "    </tr>\n",
              "    <tr>\n",
              "      <th>...</th>\n",
              "      <td>...</td>\n",
              "      <td>...</td>\n",
              "      <td>...</td>\n",
              "      <td>...</td>\n",
              "      <td>...</td>\n",
              "      <td>...</td>\n",
              "      <td>...</td>\n",
              "      <td>...</td>\n",
              "      <td>...</td>\n",
              "      <td>...</td>\n",
              "    </tr>\n",
              "    <tr>\n",
              "      <th>1048570</th>\n",
              "      <td>95</td>\n",
              "      <td>CASH_OUT</td>\n",
              "      <td>132557.35</td>\n",
              "      <td>C1179511630</td>\n",
              "      <td>479803.00</td>\n",
              "      <td>347245.65</td>\n",
              "      <td>C435674507</td>\n",
              "      <td>484329.37</td>\n",
              "      <td>616886.72</td>\n",
              "      <td>0</td>\n",
              "    </tr>\n",
              "    <tr>\n",
              "      <th>1048571</th>\n",
              "      <td>95</td>\n",
              "      <td>PAYMENT</td>\n",
              "      <td>9917.36</td>\n",
              "      <td>C1956161225</td>\n",
              "      <td>90545.00</td>\n",
              "      <td>80627.64</td>\n",
              "      <td>M668364942</td>\n",
              "      <td>0.00</td>\n",
              "      <td>0.00</td>\n",
              "      <td>0</td>\n",
              "    </tr>\n",
              "    <tr>\n",
              "      <th>1048572</th>\n",
              "      <td>95</td>\n",
              "      <td>PAYMENT</td>\n",
              "      <td>14140.05</td>\n",
              "      <td>C2037964975</td>\n",
              "      <td>20545.00</td>\n",
              "      <td>6404.95</td>\n",
              "      <td>M1355182933</td>\n",
              "      <td>0.00</td>\n",
              "      <td>0.00</td>\n",
              "      <td>0</td>\n",
              "    </tr>\n",
              "    <tr>\n",
              "      <th>1048573</th>\n",
              "      <td>95</td>\n",
              "      <td>PAYMENT</td>\n",
              "      <td>10020.05</td>\n",
              "      <td>C1633237354</td>\n",
              "      <td>90605.00</td>\n",
              "      <td>80584.95</td>\n",
              "      <td>M1964992463</td>\n",
              "      <td>0.00</td>\n",
              "      <td>0.00</td>\n",
              "      <td>0</td>\n",
              "    </tr>\n",
              "    <tr>\n",
              "      <th>1048574</th>\n",
              "      <td>95</td>\n",
              "      <td>PAYMENT</td>\n",
              "      <td>11450.03</td>\n",
              "      <td>C1264356443</td>\n",
              "      <td>80584.95</td>\n",
              "      <td>69134.92</td>\n",
              "      <td>M677577406</td>\n",
              "      <td>0.00</td>\n",
              "      <td>0.00</td>\n",
              "      <td>0</td>\n",
              "    </tr>\n",
              "  </tbody>\n",
              "</table>\n",
              "<p>1048575 rows × 10 columns</p>\n",
              "</div>"
            ],
            "text/plain": [
              "         step      type     amount     nameOrig  oldbalanceOrg  \\\n",
              "0           1   PAYMENT    9839.64  C1231006815      170136.00   \n",
              "1           1   PAYMENT    1864.28  C1666544295       21249.00   \n",
              "2           1  TRANSFER     181.00  C1305486145         181.00   \n",
              "3           1  CASH_OUT     181.00   C840083671         181.00   \n",
              "4           1   PAYMENT   11668.14  C2048537720       41554.00   \n",
              "...       ...       ...        ...          ...            ...   \n",
              "1048570    95  CASH_OUT  132557.35  C1179511630      479803.00   \n",
              "1048571    95   PAYMENT    9917.36  C1956161225       90545.00   \n",
              "1048572    95   PAYMENT   14140.05  C2037964975       20545.00   \n",
              "1048573    95   PAYMENT   10020.05  C1633237354       90605.00   \n",
              "1048574    95   PAYMENT   11450.03  C1264356443       80584.95   \n",
              "\n",
              "         newbalanceOrig     nameDest  oldbalanceDest  newbalanceDest  isFraud  \n",
              "0             160296.36  M1979787155            0.00            0.00        0  \n",
              "1              19384.72  M2044282225            0.00            0.00        0  \n",
              "2                  0.00   C553264065            0.00            0.00        1  \n",
              "3                  0.00    C38997010        21182.00            0.00        1  \n",
              "4              29885.86  M1230701703            0.00            0.00        0  \n",
              "...                 ...          ...             ...             ...      ...  \n",
              "1048570       347245.65   C435674507       484329.37       616886.72        0  \n",
              "1048571        80627.64   M668364942            0.00            0.00        0  \n",
              "1048572         6404.95  M1355182933            0.00            0.00        0  \n",
              "1048573        80584.95  M1964992463            0.00            0.00        0  \n",
              "1048574        69134.92   M677577406            0.00            0.00        0  \n",
              "\n",
              "[1048575 rows x 10 columns]"
            ]
          },
          "execution_count": 6,
          "metadata": {},
          "output_type": "execute_result"
        }
      ],
      "source": [
        "df"
      ]
    },
    {
      "cell_type": "markdown",
      "metadata": {
        "id": "xu3J1-suWz1Z"
      },
      "source": [
        "### About Dataset"
      ]
    },
    {
      "cell_type": "markdown",
      "metadata": {
        "id": "KVE4vPO-Wz1Z"
      },
      "source": [
        "#### The below column reference:"
      ]
    },
    {
      "cell_type": "markdown",
      "metadata": {
        "id": "jHomfOtuWz1Z"
      },
      "source": [
        "##### 1.step: represents a unit of time where 1 step equals 1 hour"
      ]
    },
    {
      "cell_type": "markdown",
      "metadata": {
        "id": "HfQ93ZXeWz1Z"
      },
      "source": [
        "##### 2.type: type of online transaction"
      ]
    },
    {
      "cell_type": "markdown",
      "metadata": {
        "id": "aZh82QpoWz1Z"
      },
      "source": [
        "##### 3.amount: the amount of the transaction"
      ]
    },
    {
      "cell_type": "markdown",
      "metadata": {
        "id": "1W9FrgbfWz1a"
      },
      "source": [
        "##### 4.nameOrig: customer starting the transaction"
      ]
    },
    {
      "cell_type": "markdown",
      "metadata": {
        "id": "V7EJxLZSWz1a"
      },
      "source": [
        "##### 5.oldbalanceOrg: balance before the transaction"
      ]
    },
    {
      "cell_type": "markdown",
      "metadata": {
        "id": "rMhAufj2Wz1a"
      },
      "source": [
        "##### 6.newbalanceOrig: balance after the transaction"
      ]
    },
    {
      "cell_type": "markdown",
      "metadata": {
        "id": "QlcFLgdBWz1a"
      },
      "source": [
        "##### 7.nameDest: recipient of the transaction"
      ]
    },
    {
      "cell_type": "markdown",
      "metadata": {
        "id": "vwXp-ZN8Wz1a"
      },
      "source": [
        "##### 8.oldbalanceDest: initial balance of recipient before the transaction"
      ]
    },
    {
      "cell_type": "markdown",
      "metadata": {
        "id": "u5RD5G8RWz1a"
      },
      "source": [
        "##### 9.newbalanceDest: the new balance of recipient after the transaction"
      ]
    },
    {
      "cell_type": "markdown",
      "metadata": {
        "id": "nwxxyIgAWz1b"
      },
      "source": [
        "##### 10.isFraud: fraud transaction"
      ]
    },
    {
      "cell_type": "code",
      "execution_count": 7,
      "metadata": {
        "colab": {
          "base_uri": "https://localhost:8080/",
          "height": 206
        },
        "id": "QgWs0ieEIO55",
        "outputId": "a8b19be7-669f-445a-88aa-62285d4b93da"
      },
      "outputs": [
        {
          "data": {
            "text/html": [
              "<div>\n",
              "<style scoped>\n",
              "    .dataframe tbody tr th:only-of-type {\n",
              "        vertical-align: middle;\n",
              "    }\n",
              "\n",
              "    .dataframe tbody tr th {\n",
              "        vertical-align: top;\n",
              "    }\n",
              "\n",
              "    .dataframe thead th {\n",
              "        text-align: right;\n",
              "    }\n",
              "</style>\n",
              "<table border=\"1\" class=\"dataframe\">\n",
              "  <thead>\n",
              "    <tr style=\"text-align: right;\">\n",
              "      <th></th>\n",
              "      <th>step</th>\n",
              "      <th>type</th>\n",
              "      <th>amount</th>\n",
              "      <th>nameOrig</th>\n",
              "      <th>oldbalanceOrg</th>\n",
              "      <th>newbalanceOrig</th>\n",
              "      <th>nameDest</th>\n",
              "      <th>oldbalanceDest</th>\n",
              "      <th>newbalanceDest</th>\n",
              "      <th>isFraud</th>\n",
              "    </tr>\n",
              "  </thead>\n",
              "  <tbody>\n",
              "    <tr>\n",
              "      <th>0</th>\n",
              "      <td>1</td>\n",
              "      <td>PAYMENT</td>\n",
              "      <td>9839.64</td>\n",
              "      <td>C1231006815</td>\n",
              "      <td>170136.0</td>\n",
              "      <td>160296.36</td>\n",
              "      <td>M1979787155</td>\n",
              "      <td>0.0</td>\n",
              "      <td>0.0</td>\n",
              "      <td>0</td>\n",
              "    </tr>\n",
              "    <tr>\n",
              "      <th>1</th>\n",
              "      <td>1</td>\n",
              "      <td>PAYMENT</td>\n",
              "      <td>1864.28</td>\n",
              "      <td>C1666544295</td>\n",
              "      <td>21249.0</td>\n",
              "      <td>19384.72</td>\n",
              "      <td>M2044282225</td>\n",
              "      <td>0.0</td>\n",
              "      <td>0.0</td>\n",
              "      <td>0</td>\n",
              "    </tr>\n",
              "    <tr>\n",
              "      <th>2</th>\n",
              "      <td>1</td>\n",
              "      <td>TRANSFER</td>\n",
              "      <td>181.00</td>\n",
              "      <td>C1305486145</td>\n",
              "      <td>181.0</td>\n",
              "      <td>0.00</td>\n",
              "      <td>C553264065</td>\n",
              "      <td>0.0</td>\n",
              "      <td>0.0</td>\n",
              "      <td>1</td>\n",
              "    </tr>\n",
              "    <tr>\n",
              "      <th>3</th>\n",
              "      <td>1</td>\n",
              "      <td>CASH_OUT</td>\n",
              "      <td>181.00</td>\n",
              "      <td>C840083671</td>\n",
              "      <td>181.0</td>\n",
              "      <td>0.00</td>\n",
              "      <td>C38997010</td>\n",
              "      <td>21182.0</td>\n",
              "      <td>0.0</td>\n",
              "      <td>1</td>\n",
              "    </tr>\n",
              "    <tr>\n",
              "      <th>4</th>\n",
              "      <td>1</td>\n",
              "      <td>PAYMENT</td>\n",
              "      <td>11668.14</td>\n",
              "      <td>C2048537720</td>\n",
              "      <td>41554.0</td>\n",
              "      <td>29885.86</td>\n",
              "      <td>M1230701703</td>\n",
              "      <td>0.0</td>\n",
              "      <td>0.0</td>\n",
              "      <td>0</td>\n",
              "    </tr>\n",
              "  </tbody>\n",
              "</table>\n",
              "</div>"
            ],
            "text/plain": [
              "   step      type    amount     nameOrig  oldbalanceOrg  newbalanceOrig  \\\n",
              "0     1   PAYMENT   9839.64  C1231006815       170136.0       160296.36   \n",
              "1     1   PAYMENT   1864.28  C1666544295        21249.0        19384.72   \n",
              "2     1  TRANSFER    181.00  C1305486145          181.0            0.00   \n",
              "3     1  CASH_OUT    181.00   C840083671          181.0            0.00   \n",
              "4     1   PAYMENT  11668.14  C2048537720        41554.0        29885.86   \n",
              "\n",
              "      nameDest  oldbalanceDest  newbalanceDest  isFraud  \n",
              "0  M1979787155             0.0             0.0        0  \n",
              "1  M2044282225             0.0             0.0        0  \n",
              "2   C553264065             0.0             0.0        1  \n",
              "3    C38997010         21182.0             0.0        1  \n",
              "4  M1230701703             0.0             0.0        0  "
            ]
          },
          "execution_count": 7,
          "metadata": {},
          "output_type": "execute_result"
        }
      ],
      "source": [
        "df.head()"
      ]
    },
    {
      "cell_type": "code",
      "execution_count": 8,
      "metadata": {
        "colab": {
          "base_uri": "https://localhost:8080/",
          "height": 206
        },
        "id": "nhwkkIjdJ-ht",
        "outputId": "820c2261-ae5a-475e-ccbb-761b30206146",
        "scrolled": true
      },
      "outputs": [
        {
          "data": {
            "text/html": [
              "<div>\n",
              "<style scoped>\n",
              "    .dataframe tbody tr th:only-of-type {\n",
              "        vertical-align: middle;\n",
              "    }\n",
              "\n",
              "    .dataframe tbody tr th {\n",
              "        vertical-align: top;\n",
              "    }\n",
              "\n",
              "    .dataframe thead th {\n",
              "        text-align: right;\n",
              "    }\n",
              "</style>\n",
              "<table border=\"1\" class=\"dataframe\">\n",
              "  <thead>\n",
              "    <tr style=\"text-align: right;\">\n",
              "      <th></th>\n",
              "      <th>step</th>\n",
              "      <th>type</th>\n",
              "      <th>amount</th>\n",
              "      <th>nameOrig</th>\n",
              "      <th>oldbalanceOrg</th>\n",
              "      <th>newbalanceOrig</th>\n",
              "      <th>nameDest</th>\n",
              "      <th>oldbalanceDest</th>\n",
              "      <th>newbalanceDest</th>\n",
              "      <th>isFraud</th>\n",
              "    </tr>\n",
              "  </thead>\n",
              "  <tbody>\n",
              "    <tr>\n",
              "      <th>1048570</th>\n",
              "      <td>95</td>\n",
              "      <td>CASH_OUT</td>\n",
              "      <td>132557.35</td>\n",
              "      <td>C1179511630</td>\n",
              "      <td>479803.00</td>\n",
              "      <td>347245.65</td>\n",
              "      <td>C435674507</td>\n",
              "      <td>484329.37</td>\n",
              "      <td>616886.72</td>\n",
              "      <td>0</td>\n",
              "    </tr>\n",
              "    <tr>\n",
              "      <th>1048571</th>\n",
              "      <td>95</td>\n",
              "      <td>PAYMENT</td>\n",
              "      <td>9917.36</td>\n",
              "      <td>C1956161225</td>\n",
              "      <td>90545.00</td>\n",
              "      <td>80627.64</td>\n",
              "      <td>M668364942</td>\n",
              "      <td>0.00</td>\n",
              "      <td>0.00</td>\n",
              "      <td>0</td>\n",
              "    </tr>\n",
              "    <tr>\n",
              "      <th>1048572</th>\n",
              "      <td>95</td>\n",
              "      <td>PAYMENT</td>\n",
              "      <td>14140.05</td>\n",
              "      <td>C2037964975</td>\n",
              "      <td>20545.00</td>\n",
              "      <td>6404.95</td>\n",
              "      <td>M1355182933</td>\n",
              "      <td>0.00</td>\n",
              "      <td>0.00</td>\n",
              "      <td>0</td>\n",
              "    </tr>\n",
              "    <tr>\n",
              "      <th>1048573</th>\n",
              "      <td>95</td>\n",
              "      <td>PAYMENT</td>\n",
              "      <td>10020.05</td>\n",
              "      <td>C1633237354</td>\n",
              "      <td>90605.00</td>\n",
              "      <td>80584.95</td>\n",
              "      <td>M1964992463</td>\n",
              "      <td>0.00</td>\n",
              "      <td>0.00</td>\n",
              "      <td>0</td>\n",
              "    </tr>\n",
              "    <tr>\n",
              "      <th>1048574</th>\n",
              "      <td>95</td>\n",
              "      <td>PAYMENT</td>\n",
              "      <td>11450.03</td>\n",
              "      <td>C1264356443</td>\n",
              "      <td>80584.95</td>\n",
              "      <td>69134.92</td>\n",
              "      <td>M677577406</td>\n",
              "      <td>0.00</td>\n",
              "      <td>0.00</td>\n",
              "      <td>0</td>\n",
              "    </tr>\n",
              "  </tbody>\n",
              "</table>\n",
              "</div>"
            ],
            "text/plain": [
              "         step      type     amount     nameOrig  oldbalanceOrg  \\\n",
              "1048570    95  CASH_OUT  132557.35  C1179511630      479803.00   \n",
              "1048571    95   PAYMENT    9917.36  C1956161225       90545.00   \n",
              "1048572    95   PAYMENT   14140.05  C2037964975       20545.00   \n",
              "1048573    95   PAYMENT   10020.05  C1633237354       90605.00   \n",
              "1048574    95   PAYMENT   11450.03  C1264356443       80584.95   \n",
              "\n",
              "         newbalanceOrig     nameDest  oldbalanceDest  newbalanceDest  isFraud  \n",
              "1048570       347245.65   C435674507       484329.37       616886.72        0  \n",
              "1048571        80627.64   M668364942            0.00            0.00        0  \n",
              "1048572         6404.95  M1355182933            0.00            0.00        0  \n",
              "1048573        80584.95  M1964992463            0.00            0.00        0  \n",
              "1048574        69134.92   M677577406            0.00            0.00        0  "
            ]
          },
          "execution_count": 8,
          "metadata": {},
          "output_type": "execute_result"
        }
      ],
      "source": [
        "df.tail()"
      ]
    },
    {
      "cell_type": "code",
      "execution_count": 9,
      "metadata": {
        "id": "ZVxPXNTNIO8X"
      },
      "outputs": [],
      "source": [
        "\n",
        "plt.style.use('ggplot')\n",
        "warnings.filterwarnings('ignore')"
      ]
    },
    {
      "cell_type": "code",
      "execution_count": 11,
      "metadata": {
        "colab": {
          "base_uri": "https://localhost:8080/"
        },
        "id": "eQDu3ekzIPDI",
        "outputId": "24e1773e-339b-4b4e-e5db-eeca77832748"
      },
      "outputs": [
        {
          "data": {
            "text/plain": [
              "Index(['step', 'type', 'amount', 'nameOrig', 'oldbalanceOrg', 'newbalanceOrig',\n",
              "       'nameDest', 'oldbalanceDest', 'newbalanceDest', 'isFraud'],\n",
              "      dtype='object')"
            ]
          },
          "execution_count": 11,
          "metadata": {},
          "output_type": "execute_result"
        }
      ],
      "source": [
        "df.columns"
      ]
    },
    {
      "cell_type": "markdown",
      "metadata": {
        "id": "1o5c_xhCDsJt"
      },
      "source": [
        "## Checking for correlation¶"
      ]
    },
    {
      "cell_type": "code",
      "execution_count": 12,
      "metadata": {
        "colab": {
          "base_uri": "https://localhost:8080/",
          "height": 269
        },
        "id": "-DpgLd3KDv2c",
        "outputId": "48555d63-4b94-4d7c-cb10-1950cc9830f3"
      },
      "outputs": [
        {
          "data": {
            "text/html": [
              "<div>\n",
              "<style scoped>\n",
              "    .dataframe tbody tr th:only-of-type {\n",
              "        vertical-align: middle;\n",
              "    }\n",
              "\n",
              "    .dataframe tbody tr th {\n",
              "        vertical-align: top;\n",
              "    }\n",
              "\n",
              "    .dataframe thead th {\n",
              "        text-align: right;\n",
              "    }\n",
              "</style>\n",
              "<table border=\"1\" class=\"dataframe\">\n",
              "  <thead>\n",
              "    <tr style=\"text-align: right;\">\n",
              "      <th></th>\n",
              "      <th>step</th>\n",
              "      <th>amount</th>\n",
              "      <th>oldbalanceOrg</th>\n",
              "      <th>newbalanceOrig</th>\n",
              "      <th>oldbalanceDest</th>\n",
              "      <th>newbalanceDest</th>\n",
              "      <th>isFraud</th>\n",
              "    </tr>\n",
              "  </thead>\n",
              "  <tbody>\n",
              "    <tr>\n",
              "      <th>step</th>\n",
              "      <td>1.000000</td>\n",
              "      <td>-0.025996</td>\n",
              "      <td>-0.006780</td>\n",
              "      <td>-0.007180</td>\n",
              "      <td>-0.002251</td>\n",
              "      <td>-0.019503</td>\n",
              "      <td>0.045030</td>\n",
              "    </tr>\n",
              "    <tr>\n",
              "      <th>amount</th>\n",
              "      <td>-0.025996</td>\n",
              "      <td>1.000000</td>\n",
              "      <td>0.004864</td>\n",
              "      <td>-0.001133</td>\n",
              "      <td>0.215558</td>\n",
              "      <td>0.311936</td>\n",
              "      <td>0.128862</td>\n",
              "    </tr>\n",
              "    <tr>\n",
              "      <th>oldbalanceOrg</th>\n",
              "      <td>-0.006780</td>\n",
              "      <td>0.004864</td>\n",
              "      <td>1.000000</td>\n",
              "      <td>0.999047</td>\n",
              "      <td>0.093305</td>\n",
              "      <td>0.064049</td>\n",
              "      <td>0.003829</td>\n",
              "    </tr>\n",
              "    <tr>\n",
              "      <th>newbalanceOrig</th>\n",
              "      <td>-0.007180</td>\n",
              "      <td>-0.001133</td>\n",
              "      <td>0.999047</td>\n",
              "      <td>1.000000</td>\n",
              "      <td>0.095182</td>\n",
              "      <td>0.063725</td>\n",
              "      <td>-0.009438</td>\n",
              "    </tr>\n",
              "    <tr>\n",
              "      <th>oldbalanceDest</th>\n",
              "      <td>-0.002251</td>\n",
              "      <td>0.215558</td>\n",
              "      <td>0.093305</td>\n",
              "      <td>0.095182</td>\n",
              "      <td>1.000000</td>\n",
              "      <td>0.978403</td>\n",
              "      <td>-0.007552</td>\n",
              "    </tr>\n",
              "    <tr>\n",
              "      <th>newbalanceDest</th>\n",
              "      <td>-0.019503</td>\n",
              "      <td>0.311936</td>\n",
              "      <td>0.064049</td>\n",
              "      <td>0.063725</td>\n",
              "      <td>0.978403</td>\n",
              "      <td>1.000000</td>\n",
              "      <td>-0.000495</td>\n",
              "    </tr>\n",
              "    <tr>\n",
              "      <th>isFraud</th>\n",
              "      <td>0.045030</td>\n",
              "      <td>0.128862</td>\n",
              "      <td>0.003829</td>\n",
              "      <td>-0.009438</td>\n",
              "      <td>-0.007552</td>\n",
              "      <td>-0.000495</td>\n",
              "      <td>1.000000</td>\n",
              "    </tr>\n",
              "  </tbody>\n",
              "</table>\n",
              "</div>"
            ],
            "text/plain": [
              "                    step    amount  oldbalanceOrg  newbalanceOrig  \\\n",
              "step            1.000000 -0.025996      -0.006780       -0.007180   \n",
              "amount         -0.025996  1.000000       0.004864       -0.001133   \n",
              "oldbalanceOrg  -0.006780  0.004864       1.000000        0.999047   \n",
              "newbalanceOrig -0.007180 -0.001133       0.999047        1.000000   \n",
              "oldbalanceDest -0.002251  0.215558       0.093305        0.095182   \n",
              "newbalanceDest -0.019503  0.311936       0.064049        0.063725   \n",
              "isFraud         0.045030  0.128862       0.003829       -0.009438   \n",
              "\n",
              "                oldbalanceDest  newbalanceDest   isFraud  \n",
              "step                 -0.002251       -0.019503  0.045030  \n",
              "amount                0.215558        0.311936  0.128862  \n",
              "oldbalanceOrg         0.093305        0.064049  0.003829  \n",
              "newbalanceOrig        0.095182        0.063725 -0.009438  \n",
              "oldbalanceDest        1.000000        0.978403 -0.007552  \n",
              "newbalanceDest        0.978403        1.000000 -0.000495  \n",
              "isFraud              -0.007552       -0.000495  1.000000  "
            ]
          },
          "execution_count": 12,
          "metadata": {},
          "output_type": "execute_result"
        }
      ],
      "source": [
        "# checking for correlation\n",
        "df.corr()"
      ]
    },
    {
      "cell_type": "markdown",
      "metadata": {
        "id": "cnFgSSHoD6Ts"
      },
      "source": [
        "## Heatmap"
      ]
    },
    {
      "cell_type": "code",
      "execution_count": 13,
      "metadata": {
        "colab": {
          "base_uri": "https://localhost:8080/",
          "height": 359
        },
        "id": "RTifGNw4D-3q",
        "outputId": "704e3b2c-63a3-4fc0-a143-f454075696fa"
      },
      "outputs": [
        {
          "data": {
            "text/plain": [
              "<Axes: >"
            ]
          },
          "execution_count": 13,
          "metadata": {},
          "output_type": "execute_result"
        },
        {
          "data": {
            "image/png": "[encoded data removed]",
            "text/plain": [
              "<Figure size 640x480 with 2 Axes>"
            ]
          },
          "metadata": {},
          "output_type": "display_data"
        }
      ],
      "source": [
        "sns.heatmap(df.corr(),annot=True)"
      ]
    },
    {
      "cell_type": "markdown",
      "metadata": {
        "id": "T4dyO8-2BFQU"
      },
      "source": [
        "### activity3: Univariate analysis"
      ]
    },
    {
      "cell_type": "code",
      "execution_count": 14,
      "metadata": {
        "colab": {
          "base_uri": "https://localhost:8080/",
          "height": 299
        },
        "id": "-_hbSlHwIPF7",
        "outputId": "c56e645c-f9d6-441d-c159-860392e4c2a2"
      },
      "outputs": [
        {
          "data": {
            "text/plain": [
              "<Axes: xlabel='step', ylabel='Count'>"
            ]
          },
          "execution_count": 14,
          "metadata": {},
          "output_type": "execute_result"
        },
        {
          "data": {
            "image/png": "[encoded data removed]",
            "text/plain": [
              "<Figure size 640x480 with 1 Axes>"
            ]
          },
          "metadata": {},
          "output_type": "display_data"
        }
      ],
      "source": [
        "#step\n",
        "sns.histplot(data=df,x='step')"
      ]
    },
    {
      "cell_type": "code",
      "execution_count": 15,
      "metadata": {
        "colab": {
          "base_uri": "https://localhost:8080/",
          "height": 299
        },
        "id": "b5mt6TOfIk0i",
        "outputId": "e0e6152e-8eff-4ee8-ba4f-98df5fc70760"
      },
      "outputs": [
        {
          "data": {
            "text/plain": [
              "<Axes: xlabel='step'>"
            ]
          },
          "execution_count": 15,
          "metadata": {},
          "output_type": "execute_result"
        },
        {
          "data": {
            "image/png": "[encoded data removed]",
            "text/plain": [
              "<Figure size 640x480 with 1 Axes>"
            ]
          },
          "metadata": {},
          "output_type": "display_data"
        }
      ],
      "source": [
        "sns.boxplot(data=df,x='step')"
      ]
    },
    {
      "cell_type": "code",
      "execution_count": 16,
      "metadata": {
        "colab": {
          "base_uri": "https://localhost:8080/",
          "height": 300
        },
        "id": "YkojNEgeIk6B",
        "outputId": "b9317dc3-7497-4c90-e0c5-f18018fa9ac7"
      },
      "outputs": [
        {
          "data": {
            "text/plain": [
              "<Axes: xlabel='type', ylabel='count'>"
            ]
          },
          "execution_count": 16,
          "metadata": {},
          "output_type": "execute_result"
        },
        {
          "data": {
            "image/png": "[encoded data removed]",
            "text/plain": [
              "<Figure size 640x480 with 1 Axes>"
            ]
          },
          "metadata": {},
          "output_type": "display_data"
        }
      ],
      "source": [
        "#type\n",
        "sns.countplot(data=df,x='type')"
      ]
    },
    {
      "cell_type": "code",
      "execution_count": 17,
      "metadata": {
        "colab": {
          "base_uri": "https://localhost:8080/",
          "height": 299
        },
        "id": "TrQ1OQphIlAv",
        "outputId": "65de5a50-94a5-4312-d27e-5b4b22754bfb"
      },
      "outputs": [
        {
          "data": {
            "text/plain": [
              "<Axes: xlabel='amount', ylabel='Count'>"
            ]
          },
          "execution_count": 17,
          "metadata": {},
          "output_type": "execute_result"
        },
        {
          "data": {
            "image/png": "[encoded data removed]",
            "text/plain": [
              "<Figure size 640x480 with 1 Axes>"
            ]
          },
          "metadata": {},
          "output_type": "display_data"
        }
      ],
      "source": [
        "#amount\n",
        "sns.histplot(data=df,x='amount')"
      ]
    },
    {
      "cell_type": "code",
      "execution_count": 18,
      "metadata": {
        "colab": {
          "base_uri": "https://localhost:8080/",
          "height": 299
        },
        "id": "TfqnPz59IlDP",
        "outputId": "ff8cb730-2fac-422a-a856-42c036716ec8"
      },
      "outputs": [
        {
          "data": {
            "text/plain": [
              "<Axes: xlabel='amount'>"
            ]
          },
          "execution_count": 18,
          "metadata": {},
          "output_type": "execute_result"
        },
        {
          "data": {
            "image/png": "[encoded data removed]",
            "text/plain": [
              "<Figure size 640x480 with 1 Axes>"
            ]
          },
          "metadata": {},
          "output_type": "display_data"
        }
      ],
      "source": [
        "#amount\n",
        "sns.boxplot(data=df,x='amount')"
      ]
    },
    {
      "cell_type": "code",
      "execution_count": 19,
      "metadata": {
        "colab": {
          "base_uri": "https://localhost:8080/",
          "height": 299
        },
        "id": "6UpfXzyQIlHv",
        "outputId": "66edad34-9a1e-44e4-dddf-d19a22711cd1",
        "scrolled": true
      },
      "outputs": [
        {
          "data": {
            "text/plain": [
              "<Axes: xlabel='oldbalanceOrg', ylabel='Count'>"
            ]
          },
          "execution_count": 19,
          "metadata": {},
          "output_type": "execute_result"
        },
        {
          "data": {
            "image/png": "[encoded data removed]",
            "text/plain": [
              "<Figure size 640x480 with 1 Axes>"
            ]
          },
          "metadata": {},
          "output_type": "display_data"
        }
      ],
      "source": [
        "#oldbalanceOrg\n",
        "sns.histplot(data=df,x='oldbalanceOrg')"
      ]
    },
    {
      "cell_type": "code",
      "execution_count": 20,
      "metadata": {
        "colab": {
          "base_uri": "https://localhost:8080/"
        },
        "id": "c6NT4_DGIlKR",
        "outputId": "722698b1-021f-4453-f75b-a0ed809fbf42"
      },
      "outputs": [
        {
          "data": {
            "text/plain": [
              "C985934102     98\n",
              "C1286084959    96\n",
              "C1590550415    89\n",
              "C248609774     88\n",
              "C665576141     87\n",
              "               ..\n",
              "M382871047      1\n",
              "M322765556      1\n",
              "M1118794441     1\n",
              "M1127250627     1\n",
              "M677577406      1\n",
              "Name: nameDest, Length: 449635, dtype: int64"
            ]
          },
          "execution_count": 20,
          "metadata": {},
          "output_type": "execute_result"
        }
      ],
      "source": [
        "#nameDest\n",
        "df['nameDest'].value_counts()"
      ]
    },
    {
      "cell_type": "code",
      "execution_count": 21,
      "metadata": {
        "colab": {
          "base_uri": "https://localhost:8080/",
          "height": 299
        },
        "id": "UER9Fw9zIlNq",
        "outputId": "cc6a137c-4651-4f70-b5ca-b73725b2a7e4"
      },
      "outputs": [
        {
          "data": {
            "text/plain": [
              "<Axes: xlabel='oldbalanceDest'>"
            ]
          },
          "execution_count": 21,
          "metadata": {},
          "output_type": "execute_result"
        },
        {
          "data": {
            "image/png": "[encoded data removed]",
            "text/plain": [
              "<Figure size 640x480 with 1 Axes>"
            ]
          },
          "metadata": {},
          "output_type": "display_data"
        }
      ],
      "source": [
        "#oldbalanceDest\n",
        "sns.boxplot(data=df,x='oldbalanceDest')"
      ]
    },
    {
      "cell_type": "code",
      "execution_count": 22,
      "metadata": {
        "colab": {
          "base_uri": "https://localhost:8080/",
          "height": 299
        },
        "id": "HSLgFZbwIlPl",
        "outputId": "f85c8cef-d529-4185-ca7d-3d726c8693d0"
      },
      "outputs": [
        {
          "data": {
            "text/plain": [
              "<Axes: xlabel='newbalanceDest'>"
            ]
          },
          "execution_count": 22,
          "metadata": {},
          "output_type": "execute_result"
        },
        {
          "data": {
            "image/png": "[encoded data removed]",
            "text/plain": [
              "<Figure size 640x480 with 1 Axes>"
            ]
          },
          "metadata": {},
          "output_type": "display_data"
        }
      ],
      "source": [
        "#newbalanceDest\n",
        "sns.boxplot(data=df,x='newbalanceDest')"
      ]
    },
    {
      "cell_type": "code",
      "execution_count": 23,
      "metadata": {
        "colab": {
          "base_uri": "https://localhost:8080/",
          "height": 299
        },
        "id": "khhBHft3IPIp",
        "outputId": "a23c12c8-a61b-4462-df09-460a611437f5"
      },
      "outputs": [
        {
          "data": {
            "text/plain": [
              "<Axes: xlabel='isFraud', ylabel='count'>"
            ]
          },
          "execution_count": 23,
          "metadata": {},
          "output_type": "execute_result"
        },
        {
          "data": {
            "image/png": "[encoded data removed]",
            "text/plain": [
              "<Figure size 640x480 with 1 Axes>"
            ]
          },
          "metadata": {},
          "output_type": "display_data"
        }
      ],
      "source": [
        "#isFraud:\n",
        "sns.countplot(data=df,x='isFraud')"
      ]
    },
    {
      "cell_type": "code",
      "execution_count": 24,
      "metadata": {
        "colab": {
          "base_uri": "https://localhost:8080/"
        },
        "id": "DDI8u9VFIPLk",
        "outputId": "1de05904-6a21-4f7a-c59b-74da6cf0b255"
      },
      "outputs": [
        {
          "data": {
            "text/plain": [
              "0    1047433\n",
              "1       1142\n",
              "Name: isFraud, dtype: int64"
            ]
          },
          "execution_count": 24,
          "metadata": {},
          "output_type": "execute_result"
        }
      ],
      "source": [
        "df['isFraud'].value_counts()"
      ]
    },
    {
      "cell_type": "code",
      "execution_count": 25,
      "metadata": {
        "id": "uaWxBQJTJb4x"
      },
      "outputs": [],
      "source": [
        "df.loc[df['isFraud']==0,'isFraud'] = 'is not Fraud'\n",
        "df.loc[df['isFraud']==1,'isFraud'] = 'is Fraud'\n"
      ]
    },
    {
      "cell_type": "code",
      "execution_count": 26,
      "metadata": {
        "colab": {
          "base_uri": "https://localhost:8080/",
          "height": 424
        },
        "id": "I1rjjSLUJb7H",
        "outputId": "efc7b363-c0e8-46b5-ede1-5b51e771c2c3"
      },
      "outputs": [
        {
          "data": {
            "text/html": [
              "<div>\n",
              "<style scoped>\n",
              "    .dataframe tbody tr th:only-of-type {\n",
              "        vertical-align: middle;\n",
              "    }\n",
              "\n",
              "    .dataframe tbody tr th {\n",
              "        vertical-align: top;\n",
              "    }\n",
              "\n",
              "    .dataframe thead th {\n",
              "        text-align: right;\n",
              "    }\n",
              "</style>\n",
              "<table border=\"1\" class=\"dataframe\">\n",
              "  <thead>\n",
              "    <tr style=\"text-align: right;\">\n",
              "      <th></th>\n",
              "      <th>step</th>\n",
              "      <th>type</th>\n",
              "      <th>amount</th>\n",
              "      <th>nameOrig</th>\n",
              "      <th>oldbalanceOrg</th>\n",
              "      <th>newbalanceOrig</th>\n",
              "      <th>nameDest</th>\n",
              "      <th>oldbalanceDest</th>\n",
              "      <th>newbalanceDest</th>\n",
              "      <th>isFraud</th>\n",
              "    </tr>\n",
              "  </thead>\n",
              "  <tbody>\n",
              "    <tr>\n",
              "      <th>0</th>\n",
              "      <td>1</td>\n",
              "      <td>PAYMENT</td>\n",
              "      <td>9839.64</td>\n",
              "      <td>C1231006815</td>\n",
              "      <td>170136.00</td>\n",
              "      <td>160296.36</td>\n",
              "      <td>M1979787155</td>\n",
              "      <td>0.00</td>\n",
              "      <td>0.00</td>\n",
              "      <td>is not Fraud</td>\n",
              "    </tr>\n",
              "    <tr>\n",
              "      <th>1</th>\n",
              "      <td>1</td>\n",
              "      <td>PAYMENT</td>\n",
              "      <td>1864.28</td>\n",
              "      <td>C1666544295</td>\n",
              "      <td>21249.00</td>\n",
              "      <td>19384.72</td>\n",
              "      <td>M2044282225</td>\n",
              "      <td>0.00</td>\n",
              "      <td>0.00</td>\n",
              "      <td>is not Fraud</td>\n",
              "    </tr>\n",
              "    <tr>\n",
              "      <th>2</th>\n",
              "      <td>1</td>\n",
              "      <td>TRANSFER</td>\n",
              "      <td>181.00</td>\n",
              "      <td>C1305486145</td>\n",
              "      <td>181.00</td>\n",
              "      <td>0.00</td>\n",
              "      <td>C553264065</td>\n",
              "      <td>0.00</td>\n",
              "      <td>0.00</td>\n",
              "      <td>is Fraud</td>\n",
              "    </tr>\n",
              "    <tr>\n",
              "      <th>3</th>\n",
              "      <td>1</td>\n",
              "      <td>CASH_OUT</td>\n",
              "      <td>181.00</td>\n",
              "      <td>C840083671</td>\n",
              "      <td>181.00</td>\n",
              "      <td>0.00</td>\n",
              "      <td>C38997010</td>\n",
              "      <td>21182.00</td>\n",
              "      <td>0.00</td>\n",
              "      <td>is Fraud</td>\n",
              "    </tr>\n",
              "    <tr>\n",
              "      <th>4</th>\n",
              "      <td>1</td>\n",
              "      <td>PAYMENT</td>\n",
              "      <td>11668.14</td>\n",
              "      <td>C2048537720</td>\n",
              "      <td>41554.00</td>\n",
              "      <td>29885.86</td>\n",
              "      <td>M1230701703</td>\n",
              "      <td>0.00</td>\n",
              "      <td>0.00</td>\n",
              "      <td>is not Fraud</td>\n",
              "    </tr>\n",
              "    <tr>\n",
              "      <th>...</th>\n",
              "      <td>...</td>\n",
              "      <td>...</td>\n",
              "      <td>...</td>\n",
              "      <td>...</td>\n",
              "      <td>...</td>\n",
              "      <td>...</td>\n",
              "      <td>...</td>\n",
              "      <td>...</td>\n",
              "      <td>...</td>\n",
              "      <td>...</td>\n",
              "    </tr>\n",
              "    <tr>\n",
              "      <th>1048570</th>\n",
              "      <td>95</td>\n",
              "      <td>CASH_OUT</td>\n",
              "      <td>132557.35</td>\n",
              "      <td>C1179511630</td>\n",
              "      <td>479803.00</td>\n",
              "      <td>347245.65</td>\n",
              "      <td>C435674507</td>\n",
              "      <td>484329.37</td>\n",
              "      <td>616886.72</td>\n",
              "      <td>is not Fraud</td>\n",
              "    </tr>\n",
              "    <tr>\n",
              "      <th>1048571</th>\n",
              "      <td>95</td>\n",
              "      <td>PAYMENT</td>\n",
              "      <td>9917.36</td>\n",
              "      <td>C1956161225</td>\n",
              "      <td>90545.00</td>\n",
              "      <td>80627.64</td>\n",
              "      <td>M668364942</td>\n",
              "      <td>0.00</td>\n",
              "      <td>0.00</td>\n",
              "      <td>is not Fraud</td>\n",
              "    </tr>\n",
              "    <tr>\n",
              "      <th>1048572</th>\n",
              "      <td>95</td>\n",
              "      <td>PAYMENT</td>\n",
              "      <td>14140.05</td>\n",
              "      <td>C2037964975</td>\n",
              "      <td>20545.00</td>\n",
              "      <td>6404.95</td>\n",
              "      <td>M1355182933</td>\n",
              "      <td>0.00</td>\n",
              "      <td>0.00</td>\n",
              "      <td>is not Fraud</td>\n",
              "    </tr>\n",
              "    <tr>\n",
              "      <th>1048573</th>\n",
              "      <td>95</td>\n",
              "      <td>PAYMENT</td>\n",
              "      <td>10020.05</td>\n",
              "      <td>C1633237354</td>\n",
              "      <td>90605.00</td>\n",
              "      <td>80584.95</td>\n",
              "      <td>M1964992463</td>\n",
              "      <td>0.00</td>\n",
              "      <td>0.00</td>\n",
              "      <td>is not Fraud</td>\n",
              "    </tr>\n",
              "    <tr>\n",
              "      <th>1048574</th>\n",
              "      <td>95</td>\n",
              "      <td>PAYMENT</td>\n",
              "      <td>11450.03</td>\n",
              "      <td>C1264356443</td>\n",
              "      <td>80584.95</td>\n",
              "      <td>69134.92</td>\n",
              "      <td>M677577406</td>\n",
              "      <td>0.00</td>\n",
              "      <td>0.00</td>\n",
              "      <td>is not Fraud</td>\n",
              "    </tr>\n",
              "  </tbody>\n",
              "</table>\n",
              "<p>1048575 rows × 10 columns</p>\n",
              "</div>"
            ],
            "text/plain": [
              "         step      type     amount     nameOrig  oldbalanceOrg  \\\n",
              "0           1   PAYMENT    9839.64  C1231006815      170136.00   \n",
              "1           1   PAYMENT    1864.28  C1666544295       21249.00   \n",
              "2           1  TRANSFER     181.00  C1305486145         181.00   \n",
              "3           1  CASH_OUT     181.00   C840083671         181.00   \n",
              "4           1   PAYMENT   11668.14  C2048537720       41554.00   \n",
              "...       ...       ...        ...          ...            ...   \n",
              "1048570    95  CASH_OUT  132557.35  C1179511630      479803.00   \n",
              "1048571    95   PAYMENT    9917.36  C1956161225       90545.00   \n",
              "1048572    95   PAYMENT   14140.05  C2037964975       20545.00   \n",
              "1048573    95   PAYMENT   10020.05  C1633237354       90605.00   \n",
              "1048574    95   PAYMENT   11450.03  C1264356443       80584.95   \n",
              "\n",
              "         newbalanceOrig     nameDest  oldbalanceDest  newbalanceDest  \\\n",
              "0             160296.36  M1979787155            0.00            0.00   \n",
              "1              19384.72  M2044282225            0.00            0.00   \n",
              "2                  0.00   C553264065            0.00            0.00   \n",
              "3                  0.00    C38997010        21182.00            0.00   \n",
              "4              29885.86  M1230701703            0.00            0.00   \n",
              "...                 ...          ...             ...             ...   \n",
              "1048570       347245.65   C435674507       484329.37       616886.72   \n",
              "1048571        80627.64   M668364942            0.00            0.00   \n",
              "1048572         6404.95  M1355182933            0.00            0.00   \n",
              "1048573        80584.95  M1964992463            0.00            0.00   \n",
              "1048574        69134.92   M677577406            0.00            0.00   \n",
              "\n",
              "              isFraud  \n",
              "0        is not Fraud  \n",
              "1        is not Fraud  \n",
              "2            is Fraud  \n",
              "3            is Fraud  \n",
              "4        is not Fraud  \n",
              "...               ...  \n",
              "1048570  is not Fraud  \n",
              "1048571  is not Fraud  \n",
              "1048572  is not Fraud  \n",
              "1048573  is not Fraud  \n",
              "1048574  is not Fraud  \n",
              "\n",
              "[1048575 rows x 10 columns]"
            ]
          },
          "execution_count": 26,
          "metadata": {},
          "output_type": "execute_result"
        }
      ],
      "source": [
        "df"
      ]
    },
    {
      "cell_type": "markdown",
      "metadata": {
        "id": "B7KcJ52ZBfOv"
      },
      "source": [
        "### activity4: Bivariate analysis"
      ]
    },
    {
      "cell_type": "code",
      "execution_count": 27,
      "metadata": {
        "colab": {
          "base_uri": "https://localhost:8080/",
          "height": 458
        },
        "id": "DkE4Nw07JcHG",
        "outputId": "3cdb8fd7-74f7-4883-bbdb-33f2463dc1a6"
      },
      "outputs": [
        {
          "data": {
            "text/plain": [
              "<seaborn.axisgrid.JointGrid at 0x2749a135390>"
            ]
          },
          "execution_count": 27,
          "metadata": {},
          "output_type": "execute_result"
        },
        {
          "data": {
            "image/png": "[encoded data removed]",
            "text/plain": [
              "<Figure size 600x600 with 3 Axes>"
            ]
          },
          "metadata": {},
          "output_type": "display_data"
        }
      ],
      "source": [
        "sns.jointplot(data=df,x='newbalanceDest',y='isFraud')"
      ]
    },
    {
      "cell_type": "code",
      "execution_count": 29,
      "metadata": {
        "colab": {
          "base_uri": "https://localhost:8080/",
          "height": 301
        },
        "id": "jQquQClqJcKj",
        "outputId": "93d0f094-bfb0-4857-d12a-9668923d9ad1"
      },
      "outputs": [
        {
          "data": {
            "text/plain": [
              "<Axes: xlabel='type', ylabel='count'>"
            ]
          },
          "execution_count": 29,
          "metadata": {},
          "output_type": "execute_result"
        },
        {
          "data": {
            "image/png": "[encoded data removed]",
            "text/plain": [
              "<Figure size 640x480 with 1 Axes>"
            ]
          },
          "metadata": {},
          "output_type": "display_data"
        }
      ],
      "source": [
        "sns.countplot(data=df,x='type',hue='isFraud')"
      ]
    },
    {
      "cell_type": "code",
      "execution_count": 30,
      "metadata": {
        "colab": {
          "base_uri": "https://localhost:8080/",
          "height": 299
        },
        "id": "BnXCxeVOJcP-",
        "outputId": "afa84503-8aa2-4fa4-fc6d-4010851e7e65"
      },
      "outputs": [
        {
          "data": {
            "text/plain": [
              "<Axes: xlabel='isFraud', ylabel='step'>"
            ]
          },
          "execution_count": 30,
          "metadata": {},
          "output_type": "execute_result"
        },
        {
          "data": {
            "image/png": "[encoded data removed]",
            "text/plain": [
              "<Figure size 640x480 with 1 Axes>"
            ]
          },
          "metadata": {},
          "output_type": "display_data"
        }
      ],
      "source": [
        "sns.boxplot(data=df,x='isFraud',y='step')"
      ]
    },
    {
      "cell_type": "code",
      "execution_count": 31,
      "metadata": {
        "colab": {
          "base_uri": "https://localhost:8080/",
          "height": 310
        },
        "id": "aPLVrZOxJcTC",
        "outputId": "ff84c6d1-1e52-4d32-ec72-53531afee0e4"
      },
      "outputs": [
        {
          "data": {
            "text/plain": [
              "<Axes: xlabel='isFraud', ylabel='amount'>"
            ]
          },
          "execution_count": 31,
          "metadata": {},
          "output_type": "execute_result"
        },
        {
          "data": {
            "image/png": "[encoded data removed]",
            "text/plain": [
              "<Figure size 640x480 with 1 Axes>"
            ]
          },
          "metadata": {},
          "output_type": "display_data"
        }
      ],
      "source": [
        "sns.boxplot(data=df,x='isFraud',y='amount')"
      ]
    },
    {
      "cell_type": "code",
      "execution_count": 32,
      "metadata": {
        "colab": {
          "base_uri": "https://localhost:8080/",
          "height": 310
        },
        "id": "reQd9TUrKSoO",
        "outputId": "45312f16-3fd3-4bc0-b6d0-2e559b107746"
      },
      "outputs": [
        {
          "data": {
            "text/plain": [
              "<Axes: xlabel='isFraud', ylabel='oldbalanceOrg'>"
            ]
          },
          "execution_count": 32,
          "metadata": {},
          "output_type": "execute_result"
        },
        {
          "data": {
            "image/png": "[encoded data removed]",
            "text/plain": [
              "<Figure size 640x480 with 1 Axes>"
            ]
          },
          "metadata": {},
          "output_type": "display_data"
        }
      ],
      "source": [
        "sns.boxplot(data=df,x='isFraud',y='oldbalanceOrg')"
      ]
    },
    {
      "cell_type": "code",
      "execution_count": 33,
      "metadata": {
        "colab": {
          "base_uri": "https://localhost:8080/",
          "height": 310
        },
        "id": "Cur30mtiKSsc",
        "outputId": "4ce58648-1af6-4488-a543-d6984217aaea"
      },
      "outputs": [
        {
          "data": {
            "text/plain": [
              "<Axes: xlabel='isFraud', ylabel='newbalanceOrig'>"
            ]
          },
          "execution_count": 33,
          "metadata": {},
          "output_type": "execute_result"
        },
        {
          "data": {
            "image/png": "[encoded data removed]",
            "text/plain": [
              "<Figure size 640x480 with 1 Axes>"
            ]
          },
          "metadata": {},
          "output_type": "display_data"
        }
      ],
      "source": [
        "sns.boxplot(data=df,x='isFraud',y='newbalanceOrig')"
      ]
    },
    {
      "cell_type": "code",
      "execution_count": 34,
      "metadata": {
        "colab": {
          "base_uri": "https://localhost:8080/",
          "height": 310
        },
        "id": "9n-27jjsKSv9",
        "outputId": "c1c15943-1343-45a7-d72d-ef4a287cf141"
      },
      "outputs": [
        {
          "data": {
            "text/plain": [
              "<Axes: xlabel='isFraud', ylabel='oldbalanceDest'>"
            ]
          },
          "execution_count": 34,
          "metadata": {},
          "output_type": "execute_result"
        },
        {
          "data": {
            "image/png": "[encoded data removed]",
            "text/plain": [
              "<Figure size 640x480 with 1 Axes>"
            ]
          },
          "metadata": {},
          "output_type": "display_data"
        }
      ],
      "source": [
        "sns.violinplot(data=df,x='isFraud',y='oldbalanceDest')"
      ]
    },
    {
      "cell_type": "code",
      "execution_count": 35,
      "metadata": {
        "colab": {
          "base_uri": "https://localhost:8080/",
          "height": 310
        },
        "id": "Iz2kgDnEKSx-",
        "outputId": "30749293-109d-4936-f7ca-6a1afb443dfe"
      },
      "outputs": [
        {
          "data": {
            "text/plain": [
              "<Axes: xlabel='isFraud', ylabel='newbalanceDest'>"
            ]
          },
          "execution_count": 35,
          "metadata": {},
          "output_type": "execute_result"
        },
        {
          "data": {
            "image/png": "[encoded data removed]",
            "text/plain": [
              "<Figure size 640x480 with 1 Axes>"
            ]
          },
          "metadata": {},
          "output_type": "display_data"
        }
      ],
      "source": [
        "sns.violinplot(data=df,x='isFraud',y='newbalanceDest')"
      ]
    },
    {
      "cell_type": "markdown",
      "metadata": {
        "id": "qG7dMYqNWz1i"
      },
      "source": [
        "### activity5: Descriptive analysis\n"
      ]
    },
    {
      "cell_type": "code",
      "execution_count": 36,
      "metadata": {
        "colab": {
          "base_uri": "https://localhost:8080/",
          "height": 456
        },
        "id": "IsnDfthoWz1i",
        "outputId": "87a8b8e7-249d-4add-8bae-a763d091675d"
      },
      "outputs": [
        {
          "data": {
            "text/html": [
              "<div>\n",
              "<style scoped>\n",
              "    .dataframe tbody tr th:only-of-type {\n",
              "        vertical-align: middle;\n",
              "    }\n",
              "\n",
              "    .dataframe tbody tr th {\n",
              "        vertical-align: top;\n",
              "    }\n",
              "\n",
              "    .dataframe thead th {\n",
              "        text-align: right;\n",
              "    }\n",
              "</style>\n",
              "<table border=\"1\" class=\"dataframe\">\n",
              "  <thead>\n",
              "    <tr style=\"text-align: right;\">\n",
              "      <th></th>\n",
              "      <th>step</th>\n",
              "      <th>type</th>\n",
              "      <th>amount</th>\n",
              "      <th>nameOrig</th>\n",
              "      <th>oldbalanceOrg</th>\n",
              "      <th>newbalanceOrig</th>\n",
              "      <th>nameDest</th>\n",
              "      <th>oldbalanceDest</th>\n",
              "      <th>newbalanceDest</th>\n",
              "      <th>isFraud</th>\n",
              "    </tr>\n",
              "  </thead>\n",
              "  <tbody>\n",
              "    <tr>\n",
              "      <th>count</th>\n",
              "      <td>1.048575e+06</td>\n",
              "      <td>1048575</td>\n",
              "      <td>1.048575e+06</td>\n",
              "      <td>1048575</td>\n",
              "      <td>1.048575e+06</td>\n",
              "      <td>1.048575e+06</td>\n",
              "      <td>1048575</td>\n",
              "      <td>1.048575e+06</td>\n",
              "      <td>1.048575e+06</td>\n",
              "      <td>1048575</td>\n",
              "    </tr>\n",
              "    <tr>\n",
              "      <th>unique</th>\n",
              "      <td>NaN</td>\n",
              "      <td>5</td>\n",
              "      <td>NaN</td>\n",
              "      <td>1048317</td>\n",
              "      <td>NaN</td>\n",
              "      <td>NaN</td>\n",
              "      <td>449635</td>\n",
              "      <td>NaN</td>\n",
              "      <td>NaN</td>\n",
              "      <td>2</td>\n",
              "    </tr>\n",
              "    <tr>\n",
              "      <th>top</th>\n",
              "      <td>NaN</td>\n",
              "      <td>CASH_OUT</td>\n",
              "      <td>NaN</td>\n",
              "      <td>C1214450722</td>\n",
              "      <td>NaN</td>\n",
              "      <td>NaN</td>\n",
              "      <td>C985934102</td>\n",
              "      <td>NaN</td>\n",
              "      <td>NaN</td>\n",
              "      <td>is not Fraud</td>\n",
              "    </tr>\n",
              "    <tr>\n",
              "      <th>freq</th>\n",
              "      <td>NaN</td>\n",
              "      <td>373641</td>\n",
              "      <td>NaN</td>\n",
              "      <td>2</td>\n",
              "      <td>NaN</td>\n",
              "      <td>NaN</td>\n",
              "      <td>98</td>\n",
              "      <td>NaN</td>\n",
              "      <td>NaN</td>\n",
              "      <td>1047433</td>\n",
              "    </tr>\n",
              "    <tr>\n",
              "      <th>mean</th>\n",
              "      <td>2.696617e+01</td>\n",
              "      <td>NaN</td>\n",
              "      <td>1.586670e+05</td>\n",
              "      <td>NaN</td>\n",
              "      <td>8.740095e+05</td>\n",
              "      <td>8.938089e+05</td>\n",
              "      <td>NaN</td>\n",
              "      <td>9.781600e+05</td>\n",
              "      <td>1.114198e+06</td>\n",
              "      <td>NaN</td>\n",
              "    </tr>\n",
              "    <tr>\n",
              "      <th>std</th>\n",
              "      <td>1.562325e+01</td>\n",
              "      <td>NaN</td>\n",
              "      <td>2.649409e+05</td>\n",
              "      <td>NaN</td>\n",
              "      <td>2.971751e+06</td>\n",
              "      <td>3.008271e+06</td>\n",
              "      <td>NaN</td>\n",
              "      <td>2.296780e+06</td>\n",
              "      <td>2.416593e+06</td>\n",
              "      <td>NaN</td>\n",
              "    </tr>\n",
              "    <tr>\n",
              "      <th>min</th>\n",
              "      <td>1.000000e+00</td>\n",
              "      <td>NaN</td>\n",
              "      <td>1.000000e-01</td>\n",
              "      <td>NaN</td>\n",
              "      <td>0.000000e+00</td>\n",
              "      <td>0.000000e+00</td>\n",
              "      <td>NaN</td>\n",
              "      <td>0.000000e+00</td>\n",
              "      <td>0.000000e+00</td>\n",
              "      <td>NaN</td>\n",
              "    </tr>\n",
              "    <tr>\n",
              "      <th>25%</th>\n",
              "      <td>1.500000e+01</td>\n",
              "      <td>NaN</td>\n",
              "      <td>1.214907e+04</td>\n",
              "      <td>NaN</td>\n",
              "      <td>0.000000e+00</td>\n",
              "      <td>0.000000e+00</td>\n",
              "      <td>NaN</td>\n",
              "      <td>0.000000e+00</td>\n",
              "      <td>0.000000e+00</td>\n",
              "      <td>NaN</td>\n",
              "    </tr>\n",
              "    <tr>\n",
              "      <th>50%</th>\n",
              "      <td>2.000000e+01</td>\n",
              "      <td>NaN</td>\n",
              "      <td>7.634333e+04</td>\n",
              "      <td>NaN</td>\n",
              "      <td>1.600200e+04</td>\n",
              "      <td>0.000000e+00</td>\n",
              "      <td>NaN</td>\n",
              "      <td>1.263772e+05</td>\n",
              "      <td>2.182604e+05</td>\n",
              "      <td>NaN</td>\n",
              "    </tr>\n",
              "    <tr>\n",
              "      <th>75%</th>\n",
              "      <td>3.900000e+01</td>\n",
              "      <td>NaN</td>\n",
              "      <td>2.137619e+05</td>\n",
              "      <td>NaN</td>\n",
              "      <td>1.366420e+05</td>\n",
              "      <td>1.746000e+05</td>\n",
              "      <td>NaN</td>\n",
              "      <td>9.159235e+05</td>\n",
              "      <td>1.149808e+06</td>\n",
              "      <td>NaN</td>\n",
              "    </tr>\n",
              "    <tr>\n",
              "      <th>max</th>\n",
              "      <td>9.500000e+01</td>\n",
              "      <td>NaN</td>\n",
              "      <td>1.000000e+07</td>\n",
              "      <td>NaN</td>\n",
              "      <td>3.890000e+07</td>\n",
              "      <td>3.890000e+07</td>\n",
              "      <td>NaN</td>\n",
              "      <td>4.210000e+07</td>\n",
              "      <td>4.220000e+07</td>\n",
              "      <td>NaN</td>\n",
              "    </tr>\n",
              "  </tbody>\n",
              "</table>\n",
              "</div>"
            ],
            "text/plain": [
              "                step      type        amount     nameOrig  oldbalanceOrg  \\\n",
              "count   1.048575e+06   1048575  1.048575e+06      1048575   1.048575e+06   \n",
              "unique           NaN         5           NaN      1048317            NaN   \n",
              "top              NaN  CASH_OUT           NaN  C1214450722            NaN   \n",
              "freq             NaN    373641           NaN            2            NaN   \n",
              "mean    2.696617e+01       NaN  1.586670e+05          NaN   8.740095e+05   \n",
              "std     1.562325e+01       NaN  2.649409e+05          NaN   2.971751e+06   \n",
              "min     1.000000e+00       NaN  1.000000e-01          NaN   0.000000e+00   \n",
              "25%     1.500000e+01       NaN  1.214907e+04          NaN   0.000000e+00   \n",
              "50%     2.000000e+01       NaN  7.634333e+04          NaN   1.600200e+04   \n",
              "75%     3.900000e+01       NaN  2.137619e+05          NaN   1.366420e+05   \n",
              "max     9.500000e+01       NaN  1.000000e+07          NaN   3.890000e+07   \n",
              "\n",
              "        newbalanceOrig    nameDest  oldbalanceDest  newbalanceDest  \\\n",
              "count     1.048575e+06     1048575    1.048575e+06    1.048575e+06   \n",
              "unique             NaN      449635             NaN             NaN   \n",
              "top                NaN  C985934102             NaN             NaN   \n",
              "freq               NaN          98             NaN             NaN   \n",
              "mean      8.938089e+05         NaN    9.781600e+05    1.114198e+06   \n",
              "std       3.008271e+06         NaN    2.296780e+06    2.416593e+06   \n",
              "min       0.000000e+00         NaN    0.000000e+00    0.000000e+00   \n",
              "25%       0.000000e+00         NaN    0.000000e+00    0.000000e+00   \n",
              "50%       0.000000e+00         NaN    1.263772e+05    2.182604e+05   \n",
              "75%       1.746000e+05         NaN    9.159235e+05    1.149808e+06   \n",
              "max       3.890000e+07         NaN    4.210000e+07    4.220000e+07   \n",
              "\n",
              "             isFraud  \n",
              "count        1048575  \n",
              "unique             2  \n",
              "top     is not Fraud  \n",
              "freq         1047433  \n",
              "mean             NaN  \n",
              "std              NaN  \n",
              "min              NaN  \n",
              "25%              NaN  \n",
              "50%              NaN  \n",
              "75%              NaN  \n",
              "max              NaN  "
            ]
          },
          "execution_count": 36,
          "metadata": {},
          "output_type": "execute_result"
        }
      ],
      "source": [
        "df.describe(include='all')"
      ]
    },
    {
      "cell_type": "markdown",
      "metadata": {
        "id": "Apj-BZ7aJhuP"
      },
      "source": [
        "## Data Preprocessing"
      ]
    },
    {
      "cell_type": "code",
      "execution_count": 37,
      "metadata": {
        "colab": {
          "base_uri": "https://localhost:8080/"
        },
        "id": "Dl60YgAQmYvt",
        "outputId": "d8bab00f-73d1-496d-a3c2-d855931bdfbf"
      },
      "outputs": [
        {
          "data": {
            "text/plain": [
              "(1048575, 10)"
            ]
          },
          "execution_count": 37,
          "metadata": {},
          "output_type": "execute_result"
        }
      ],
      "source": [
        "# Shape of csv data\n",
        "df.shape"
      ]
    },
    {
      "cell_type": "code",
      "execution_count": 38,
      "metadata": {
        "colab": {
          "base_uri": "https://localhost:8080/"
        },
        "id": "0d__6LI0mYTk",
        "outputId": "f588c4a1-e19a-4a13-bc4a-f0759f86212c"
      },
      "outputs": [
        {
          "data": {
            "text/plain": [
              "Index(['step', 'type', 'amount', 'oldbalanceOrg', 'newbalanceOrig',\n",
              "       'oldbalanceDest', 'newbalanceDest', 'isFraud'],\n",
              "      dtype='object')"
            ]
          },
          "execution_count": 38,
          "metadata": {},
          "output_type": "execute_result"
        }
      ],
      "source": [
        "df.drop(['nameOrig','nameDest'],axis=1,inplace=True)\n",
        "df.columns"
      ]
    },
    {
      "cell_type": "code",
      "execution_count": 39,
      "metadata": {
        "colab": {
          "base_uri": "https://localhost:8080/",
          "height": 0
        },
        "id": "XSto2siwmqi3",
        "outputId": "4cf7e744-8685-4a95-ba00-e05064ad804a"
      },
      "outputs": [
        {
          "data": {
            "text/html": [
              "<div>\n",
              "<style scoped>\n",
              "    .dataframe tbody tr th:only-of-type {\n",
              "        vertical-align: middle;\n",
              "    }\n",
              "\n",
              "    .dataframe tbody tr th {\n",
              "        vertical-align: top;\n",
              "    }\n",
              "\n",
              "    .dataframe thead th {\n",
              "        text-align: right;\n",
              "    }\n",
              "</style>\n",
              "<table border=\"1\" class=\"dataframe\">\n",
              "  <thead>\n",
              "    <tr style=\"text-align: right;\">\n",
              "      <th></th>\n",
              "      <th>step</th>\n",
              "      <th>type</th>\n",
              "      <th>amount</th>\n",
              "      <th>oldbalanceOrg</th>\n",
              "      <th>newbalanceOrig</th>\n",
              "      <th>oldbalanceDest</th>\n",
              "      <th>newbalanceDest</th>\n",
              "      <th>isFraud</th>\n",
              "    </tr>\n",
              "  </thead>\n",
              "  <tbody>\n",
              "    <tr>\n",
              "      <th>0</th>\n",
              "      <td>1</td>\n",
              "      <td>PAYMENT</td>\n",
              "      <td>9839.64</td>\n",
              "      <td>170136.0</td>\n",
              "      <td>160296.36</td>\n",
              "      <td>0.0</td>\n",
              "      <td>0.0</td>\n",
              "      <td>is not Fraud</td>\n",
              "    </tr>\n",
              "    <tr>\n",
              "      <th>1</th>\n",
              "      <td>1</td>\n",
              "      <td>PAYMENT</td>\n",
              "      <td>1864.28</td>\n",
              "      <td>21249.0</td>\n",
              "      <td>19384.72</td>\n",
              "      <td>0.0</td>\n",
              "      <td>0.0</td>\n",
              "      <td>is not Fraud</td>\n",
              "    </tr>\n",
              "    <tr>\n",
              "      <th>2</th>\n",
              "      <td>1</td>\n",
              "      <td>TRANSFER</td>\n",
              "      <td>181.00</td>\n",
              "      <td>181.0</td>\n",
              "      <td>0.00</td>\n",
              "      <td>0.0</td>\n",
              "      <td>0.0</td>\n",
              "      <td>is Fraud</td>\n",
              "    </tr>\n",
              "    <tr>\n",
              "      <th>3</th>\n",
              "      <td>1</td>\n",
              "      <td>CASH_OUT</td>\n",
              "      <td>181.00</td>\n",
              "      <td>181.0</td>\n",
              "      <td>0.00</td>\n",
              "      <td>21182.0</td>\n",
              "      <td>0.0</td>\n",
              "      <td>is Fraud</td>\n",
              "    </tr>\n",
              "    <tr>\n",
              "      <th>4</th>\n",
              "      <td>1</td>\n",
              "      <td>PAYMENT</td>\n",
              "      <td>11668.14</td>\n",
              "      <td>41554.0</td>\n",
              "      <td>29885.86</td>\n",
              "      <td>0.0</td>\n",
              "      <td>0.0</td>\n",
              "      <td>is not Fraud</td>\n",
              "    </tr>\n",
              "  </tbody>\n",
              "</table>\n",
              "</div>"
            ],
            "text/plain": [
              "   step      type    amount  oldbalanceOrg  newbalanceOrig  oldbalanceDest  \\\n",
              "0     1   PAYMENT   9839.64       170136.0       160296.36             0.0   \n",
              "1     1   PAYMENT   1864.28        21249.0        19384.72             0.0   \n",
              "2     1  TRANSFER    181.00          181.0            0.00             0.0   \n",
              "3     1  CASH_OUT    181.00          181.0            0.00         21182.0   \n",
              "4     1   PAYMENT  11668.14        41554.0        29885.86             0.0   \n",
              "\n",
              "   newbalanceDest       isFraud  \n",
              "0             0.0  is not Fraud  \n",
              "1             0.0  is not Fraud  \n",
              "2             0.0      is Fraud  \n",
              "3             0.0      is Fraud  \n",
              "4             0.0  is not Fraud  "
            ]
          },
          "execution_count": 39,
          "metadata": {},
          "output_type": "execute_result"
        }
      ],
      "source": [
        "df.head()"
      ]
    },
    {
      "cell_type": "markdown",
      "metadata": {
        "id": "i15FSm22Wz1k"
      },
      "source": [
        "### Activity 1: Checking for null values\n"
      ]
    },
    {
      "cell_type": "code",
      "execution_count": 40,
      "metadata": {
        "colab": {
          "base_uri": "https://localhost:8080/"
        },
        "id": "f5pshmlAJcVl",
        "outputId": "af638837-d79d-4bf3-ce00-b354c3c750bb"
      },
      "outputs": [
        {
          "data": {
            "text/plain": [
              "step              0\n",
              "type              0\n",
              "amount            0\n",
              "oldbalanceOrg     0\n",
              "newbalanceOrig    0\n",
              "oldbalanceDest    0\n",
              "newbalanceDest    0\n",
              "isFraud           0\n",
              "dtype: int64"
            ]
          },
          "execution_count": 40,
          "metadata": {},
          "output_type": "execute_result"
        }
      ],
      "source": [
        "# Finding null values\n",
        "df.isnull().sum()"
      ]
    },
    {
      "cell_type": "code",
      "execution_count": 41,
      "metadata": {
        "colab": {
          "base_uri": "https://localhost:8080/"
        },
        "id": "WP1Jly9IK-DP",
        "outputId": "3b00e084-aeec-4666-ac92-a00be5048ef7"
      },
      "outputs": [
        {
          "name": "stdout",
          "output_type": "stream",
          "text": [
            "<class 'pandas.core.frame.DataFrame'>\n",
            "RangeIndex: 1048575 entries, 0 to 1048574\n",
            "Data columns (total 8 columns):\n",
            " #   Column          Non-Null Count    Dtype  \n",
            "---  ------          --------------    -----  \n",
            " 0   step            1048575 non-null  int64  \n",
            " 1   type            1048575 non-null  object \n",
            " 2   amount          1048575 non-null  float64\n",
            " 3   oldbalanceOrg   1048575 non-null  float64\n",
            " 4   newbalanceOrig  1048575 non-null  float64\n",
            " 5   oldbalanceDest  1048575 non-null  float64\n",
            " 6   newbalanceDest  1048575 non-null  float64\n",
            " 7   isFraud         1048575 non-null  object \n",
            "dtypes: float64(5), int64(1), object(2)\n",
            "memory usage: 64.0+ MB\n"
          ]
        }
      ],
      "source": [
        "df.info()"
      ]
    },
    {
      "cell_type": "markdown",
      "metadata": {
        "id": "4HSRlgxpWz1l"
      },
      "source": [
        "### Activity 2: Handling outliers\n"
      ]
    },
    {
      "cell_type": "code",
      "execution_count": 42,
      "metadata": {
        "colab": {
          "base_uri": "https://localhost:8080/",
          "height": 0
        },
        "id": "zVJgQAFmWz1l",
        "outputId": "5f5fed61-ff65-459f-945a-6ddfa74dbb3e"
      },
      "outputs": [
        {
          "data": {
            "text/plain": [
              "<Axes: >"
            ]
          },
          "execution_count": 42,
          "metadata": {},
          "output_type": "execute_result"
        },
        {
          "data": {
            "image/png": "[encoded data removed]",
            "text/plain": [
              "<Figure size 640x480 with 1 Axes>"
            ]
          },
          "metadata": {},
          "output_type": "display_data"
        }
      ],
      "source": [
        "sns.boxplot(df['amount'])"
      ]
    },
    {
      "cell_type": "markdown",
      "metadata": {
        "id": "jLR2CFGJWz1l"
      },
      "source": [
        "## Remove the Outliers"
      ]
    },
    {
      "cell_type": "code",
      "execution_count": 43,
      "metadata": {
        "colab": {
          "base_uri": "https://localhost:8080/"
        },
        "id": "UVR0Xi-SWz1l",
        "outputId": "01bf9e8a-0341-4369-aadb-d22f1dc66d28"
      },
      "outputs": [
        {
          "name": "stdout",
          "output_type": "stream",
          "text": [
            "ModeResult(mode=array([10000000.]), count=array([14]))\n",
            "158666.9755271392\n"
          ]
        }
      ],
      "source": [
        "from scipy import stats\n",
        "print(stats.mode(df['amount']))\n",
        "print(np.mean(df['amount']))"
      ]
    },
    {
      "cell_type": "code",
      "execution_count": 44,
      "metadata": {
        "colab": {
          "base_uri": "https://localhost:8080/"
        },
        "id": "xF9YBvcEWz1l",
        "outputId": "ddf6de56-b27b-421a-e749-ad222e34c5d3"
      },
      "outputs": [
        {
          "name": "stdout",
          "output_type": "stream",
          "text": [
            "q1 : 12149.065\n",
            "q3 : 213761.89\n",
            "IQR : 201612.825\n",
            "Upper Bound : 516181.12750000006\n",
            "Lower Bound : -290270.17250000004\n",
            "Skewed data : 53088\n",
            "Skewed data : 0\n"
          ]
        }
      ],
      "source": [
        "q1 = np.quantile(df['amount'],0.25)\n",
        "q3 = np.quantile(df['amount'],0.75)\n",
        "\n",
        "IQR = q3-q1\n",
        "\n",
        "upper_bound = q3+(1.5*IQR)\n",
        "lower_bound = q1-(1.5*IQR)\n",
        "\n",
        "print('q1 :',q1)\n",
        "print('q3 :',q3)\n",
        "print('IQR :',IQR)\n",
        "print('Upper Bound :',upper_bound)\n",
        "print('Lower Bound :',lower_bound)\n",
        "print('Skewed data :',len(df[df['amount']>upper_bound]))\n",
        "print('Skewed data :',len(df[df['amount']<lower_bound]))"
      ]
    },
    {
      "cell_type": "code",
      "execution_count": 45,
      "metadata": {
        "id": "aWg2-TRhWz1m"
      },
      "outputs": [],
      "source": [
        "# To handle outliers transformation techniques are used.\n",
        "\n",
        "def transformationPlot(feature):\n",
        "    plt.figure(figsize=(12,5))\n",
        "    plt.subplot(1,2,1)\n",
        "    sns.distplot(feature)\n",
        "    plt.subplot(1,2,2)\n",
        "    stats.probplot(feature,plot=plt)"
      ]
    },
    {
      "cell_type": "code",
      "execution_count": 46,
      "metadata": {
        "colab": {
          "base_uri": "https://localhost:8080/",
          "height": 354
        },
        "id": "AGh0yvCiWz1m",
        "outputId": "1d0cf2a4-1606-462a-fbd9-d96d1772848f"
      },
      "outputs": [
        {
          "data": {
            "image/png": "[encoded data removed]",
            "text/plain": [
              "<Figure size 1200x500 with 2 Axes>"
            ]
          },
          "metadata": {},
          "output_type": "display_data"
        }
      ],
      "source": [
        "transformationPlot(np.log(df['amount']))"
      ]
    },
    {
      "cell_type": "code",
      "execution_count": 47,
      "metadata": {
        "id": "D3qCHAeVWz1m"
      },
      "outputs": [],
      "source": [
        "df['amount']=np.log(df['amount'])"
      ]
    },
    {
      "cell_type": "markdown",
      "metadata": {
        "id": "O_UOT-t41XQ9"
      },
      "source": [
        "### Activity 3: Object data labelencoding\n",
        " "
      ]
    },
    {
      "cell_type": "code",
      "execution_count": 48,
      "metadata": {
        "id": "G6-XxaLqK-Fe"
      },
      "outputs": [],
      "source": [
        "from sklearn.preprocessing import LabelEncoder\n",
        "\n",
        "la = LabelEncoder()\n",
        "df['type'] = la.fit_transform(df['type'])"
      ]
    },
    {
      "cell_type": "code",
      "execution_count": 49,
      "metadata": {
        "colab": {
          "base_uri": "https://localhost:8080/"
        },
        "id": "aTjbWhQwK-MN",
        "outputId": "52cac381-778c-470e-a3e6-a2fe4df06fad"
      },
      "outputs": [
        {
          "data": {
            "text/plain": [
              "1    373641\n",
              "3    353873\n",
              "0    227130\n",
              "4     86753\n",
              "2      7178\n",
              "Name: type, dtype: int64"
            ]
          },
          "execution_count": 49,
          "metadata": {},
          "output_type": "execute_result"
        }
      ],
      "source": [
        "df['type'].value_counts()"
      ]
    },
    {
      "cell_type": "markdown",
      "metadata": {
        "id": "guHUkyt7F18B"
      },
      "source": [
        "## dividing the dataset into dependent and independent y and x respectively"
      ]
    },
    {
      "cell_type": "code",
      "execution_count": 50,
      "metadata": {
        "id": "JocpfAAAK-P3"
      },
      "outputs": [],
      "source": [
        "x = df.drop('isFraud',axis=1)\n",
        "y = df['isFraud']"
      ]
    },
    {
      "cell_type": "code",
      "execution_count": 51,
      "metadata": {
        "colab": {
          "base_uri": "https://localhost:8080/",
          "height": 0
        },
        "id": "74ugYCOoK-TL",
        "outputId": "cf36a0a5-2724-4660-8d7d-29a6f497cede"
      },
      "outputs": [
        {
          "data": {
            "text/html": [
              "<div>\n",
              "<style scoped>\n",
              "    .dataframe tbody tr th:only-of-type {\n",
              "        vertical-align: middle;\n",
              "    }\n",
              "\n",
              "    .dataframe tbody tr th {\n",
              "        vertical-align: top;\n",
              "    }\n",
              "\n",
              "    .dataframe thead th {\n",
              "        text-align: right;\n",
              "    }\n",
              "</style>\n",
              "<table border=\"1\" class=\"dataframe\">\n",
              "  <thead>\n",
              "    <tr style=\"text-align: right;\">\n",
              "      <th></th>\n",
              "      <th>step</th>\n",
              "      <th>type</th>\n",
              "      <th>amount</th>\n",
              "      <th>oldbalanceOrg</th>\n",
              "      <th>newbalanceOrig</th>\n",
              "      <th>oldbalanceDest</th>\n",
              "      <th>newbalanceDest</th>\n",
              "    </tr>\n",
              "  </thead>\n",
              "  <tbody>\n",
              "    <tr>\n",
              "      <th>0</th>\n",
              "      <td>1</td>\n",
              "      <td>3</td>\n",
              "      <td>9.194174</td>\n",
              "      <td>170136.00</td>\n",
              "      <td>160296.36</td>\n",
              "      <td>0.00</td>\n",
              "      <td>0.00</td>\n",
              "    </tr>\n",
              "    <tr>\n",
              "      <th>1</th>\n",
              "      <td>1</td>\n",
              "      <td>3</td>\n",
              "      <td>7.530630</td>\n",
              "      <td>21249.00</td>\n",
              "      <td>19384.72</td>\n",
              "      <td>0.00</td>\n",
              "      <td>0.00</td>\n",
              "    </tr>\n",
              "    <tr>\n",
              "      <th>2</th>\n",
              "      <td>1</td>\n",
              "      <td>4</td>\n",
              "      <td>5.198497</td>\n",
              "      <td>181.00</td>\n",
              "      <td>0.00</td>\n",
              "      <td>0.00</td>\n",
              "      <td>0.00</td>\n",
              "    </tr>\n",
              "    <tr>\n",
              "      <th>3</th>\n",
              "      <td>1</td>\n",
              "      <td>1</td>\n",
              "      <td>5.198497</td>\n",
              "      <td>181.00</td>\n",
              "      <td>0.00</td>\n",
              "      <td>21182.00</td>\n",
              "      <td>0.00</td>\n",
              "    </tr>\n",
              "    <tr>\n",
              "      <th>4</th>\n",
              "      <td>1</td>\n",
              "      <td>3</td>\n",
              "      <td>9.364617</td>\n",
              "      <td>41554.00</td>\n",
              "      <td>29885.86</td>\n",
              "      <td>0.00</td>\n",
              "      <td>0.00</td>\n",
              "    </tr>\n",
              "    <tr>\n",
              "      <th>...</th>\n",
              "      <td>...</td>\n",
              "      <td>...</td>\n",
              "      <td>...</td>\n",
              "      <td>...</td>\n",
              "      <td>...</td>\n",
              "      <td>...</td>\n",
              "      <td>...</td>\n",
              "    </tr>\n",
              "    <tr>\n",
              "      <th>1048570</th>\n",
              "      <td>95</td>\n",
              "      <td>1</td>\n",
              "      <td>11.794771</td>\n",
              "      <td>479803.00</td>\n",
              "      <td>347245.65</td>\n",
              "      <td>484329.37</td>\n",
              "      <td>616886.72</td>\n",
              "    </tr>\n",
              "    <tr>\n",
              "      <th>1048571</th>\n",
              "      <td>95</td>\n",
              "      <td>3</td>\n",
              "      <td>9.202042</td>\n",
              "      <td>90545.00</td>\n",
              "      <td>80627.64</td>\n",
              "      <td>0.00</td>\n",
              "      <td>0.00</td>\n",
              "    </tr>\n",
              "    <tr>\n",
              "      <th>1048572</th>\n",
              "      <td>95</td>\n",
              "      <td>3</td>\n",
              "      <td>9.556766</td>\n",
              "      <td>20545.00</td>\n",
              "      <td>6404.95</td>\n",
              "      <td>0.00</td>\n",
              "      <td>0.00</td>\n",
              "    </tr>\n",
              "    <tr>\n",
              "      <th>1048573</th>\n",
              "      <td>95</td>\n",
              "      <td>3</td>\n",
              "      <td>9.212343</td>\n",
              "      <td>90605.00</td>\n",
              "      <td>80584.95</td>\n",
              "      <td>0.00</td>\n",
              "      <td>0.00</td>\n",
              "    </tr>\n",
              "    <tr>\n",
              "      <th>1048574</th>\n",
              "      <td>95</td>\n",
              "      <td>3</td>\n",
              "      <td>9.345748</td>\n",
              "      <td>80584.95</td>\n",
              "      <td>69134.92</td>\n",
              "      <td>0.00</td>\n",
              "      <td>0.00</td>\n",
              "    </tr>\n",
              "  </tbody>\n",
              "</table>\n",
              "<p>1048575 rows × 7 columns</p>\n",
              "</div>"
            ],
            "text/plain": [
              "         step  type     amount  oldbalanceOrg  newbalanceOrig  oldbalanceDest  \\\n",
              "0           1     3   9.194174      170136.00       160296.36            0.00   \n",
              "1           1     3   7.530630       21249.00        19384.72            0.00   \n",
              "2           1     4   5.198497         181.00            0.00            0.00   \n",
              "3           1     1   5.198497         181.00            0.00        21182.00   \n",
              "4           1     3   9.364617       41554.00        29885.86            0.00   \n",
              "...       ...   ...        ...            ...             ...             ...   \n",
              "1048570    95     1  11.794771      479803.00       347245.65       484329.37   \n",
              "1048571    95     3   9.202042       90545.00        80627.64            0.00   \n",
              "1048572    95     3   9.556766       20545.00         6404.95            0.00   \n",
              "1048573    95     3   9.212343       90605.00        80584.95            0.00   \n",
              "1048574    95     3   9.345748       80584.95        69134.92            0.00   \n",
              "\n",
              "         newbalanceDest  \n",
              "0                  0.00  \n",
              "1                  0.00  \n",
              "2                  0.00  \n",
              "3                  0.00  \n",
              "4                  0.00  \n",
              "...                 ...  \n",
              "1048570       616886.72  \n",
              "1048571            0.00  \n",
              "1048572            0.00  \n",
              "1048573            0.00  \n",
              "1048574            0.00  \n",
              "\n",
              "[1048575 rows x 7 columns]"
            ]
          },
          "execution_count": 51,
          "metadata": {},
          "output_type": "execute_result"
        }
      ],
      "source": [
        "x"
      ]
    },
    {
      "cell_type": "code",
      "execution_count": 52,
      "metadata": {
        "colab": {
          "base_uri": "https://localhost:8080/"
        },
        "id": "tCj-EpPpK-VT",
        "outputId": "cc6d6c90-3d49-46a9-e022-0274d296babe"
      },
      "outputs": [
        {
          "data": {
            "text/plain": [
              "0          is not Fraud\n",
              "1          is not Fraud\n",
              "2              is Fraud\n",
              "3              is Fraud\n",
              "4          is not Fraud\n",
              "               ...     \n",
              "1048570    is not Fraud\n",
              "1048571    is not Fraud\n",
              "1048572    is not Fraud\n",
              "1048573    is not Fraud\n",
              "1048574    is not Fraud\n",
              "Name: isFraud, Length: 1048575, dtype: object"
            ]
          },
          "execution_count": 52,
          "metadata": {},
          "output_type": "execute_result"
        }
      ],
      "source": [
        "y"
      ]
    },
    {
      "cell_type": "markdown",
      "metadata": {
        "id": "E5kmO78ghf4N"
      },
      "source": [
        "### Activity 4: Splitting data into train and test\n",
        " "
      ]
    },
    {
      "cell_type": "code",
      "execution_count": 53,
      "metadata": {
        "id": "SLj_enu1K-Xh"
      },
      "outputs": [],
      "source": [
        "from sklearn.model_selection import train_test_split\n",
        "\n",
        "x_train,x_test,y_train,y_test=train_test_split(x,y,random_state=0,test_size=0.2)"
      ]
    },
    {
      "cell_type": "code",
      "execution_count": 54,
      "metadata": {
        "colab": {
          "base_uri": "https://localhost:8080/"
        },
        "id": "R6uYWuVKK-Z0",
        "outputId": "2a3f1cba-b8dc-45d0-ca85-6729151b2aea"
      },
      "outputs": [
        {
          "name": "stdout",
          "output_type": "stream",
          "text": [
            "(838860, 7)\n",
            "(209715, 7)\n",
            "(209715,)\n",
            "(838860,)\n"
          ]
        }
      ],
      "source": [
        "print(x_train.shape)\n",
        "print(x_test.shape)\n",
        "print(y_test.shape)\n",
        "print(y_train.shape)"
      ]
    },
    {
      "cell_type": "markdown",
      "metadata": {
        "id": "aG26h6pmiL6C"
      },
      "source": [
        "## Model Building"
      ]
    },
    {
      "cell_type": "markdown",
      "metadata": {
        "id": "JZ76wkx-ds95"
      },
      "source": [
        "### activity1.Random Forest classifier¶"
      ]
    },
    {
      "cell_type": "code",
      "execution_count": 55,
      "metadata": {
        "colab": {
          "base_uri": "https://localhost:8080/"
        },
        "id": "F0ro9bRqL4no",
        "outputId": "5cdb180f-e391-4ad7-8270-70c7e80a8bd9"
      },
      "outputs": [
        {
          "data": {
            "text/plain": [
              "0.9997520444412655"
            ]
          },
          "execution_count": 55,
          "metadata": {},
          "output_type": "execute_result"
        }
      ],
      "source": [
        "from sklearn.ensemble import RandomForestClassifier\n",
        "from sklearn.metrics import accuracy_score\n",
        "rfc=RandomForestClassifier()\n",
        "rfc.fit(x_train,y_train)\n",
        "\n",
        "y_test_predict1=rfc.predict(x_test)\n",
        "test_accuracy=accuracy_score(y_test,y_test_predict1)\n",
        "test_accuracy"
      ]
    },
    {
      "cell_type": "code",
      "execution_count": 56,
      "metadata": {
        "colab": {
          "base_uri": "https://localhost:8080/"
        },
        "id": "d7K_ybEcL4qB",
        "outputId": "9cda3c09-9c05-4d60-c33f-6e2bb0cf5f6a"
      },
      "outputs": [
        {
          "data": {
            "text/plain": [
              "1.0"
            ]
          },
          "execution_count": 56,
          "metadata": {},
          "output_type": "execute_result"
        }
      ],
      "source": [
        "y_train_predict1=rfc.predict(x_train)\n",
        "train_accuracy=accuracy_score(y_train,y_train_predict1)\n",
        "train_accuracy\n"
      ]
    },
    {
      "cell_type": "code",
      "execution_count": 57,
      "metadata": {
        "colab": {
          "base_uri": "https://localhost:8080/",
          "height": 143
        },
        "id": "fNDXhCjqieXD",
        "outputId": "644c73b7-ab2d-4246-f605-fa6362667618"
      },
      "outputs": [
        {
          "data": {
            "text/html": [
              "<div>\n",
              "<style scoped>\n",
              "    .dataframe tbody tr th:only-of-type {\n",
              "        vertical-align: middle;\n",
              "    }\n",
              "\n",
              "    .dataframe tbody tr th {\n",
              "        vertical-align: top;\n",
              "    }\n",
              "\n",
              "    .dataframe thead th {\n",
              "        text-align: right;\n",
              "    }\n",
              "</style>\n",
              "<table border=\"1\" class=\"dataframe\">\n",
              "  <thead>\n",
              "    <tr style=\"text-align: right;\">\n",
              "      <th>col_0</th>\n",
              "      <th>is Fraud</th>\n",
              "      <th>is not Fraud</th>\n",
              "    </tr>\n",
              "    <tr>\n",
              "      <th>isFraud</th>\n",
              "      <th></th>\n",
              "      <th></th>\n",
              "    </tr>\n",
              "  </thead>\n",
              "  <tbody>\n",
              "    <tr>\n",
              "      <th>is Fraud</th>\n",
              "      <td>175</td>\n",
              "      <td>46</td>\n",
              "    </tr>\n",
              "    <tr>\n",
              "      <th>is not Fraud</th>\n",
              "      <td>6</td>\n",
              "      <td>209488</td>\n",
              "    </tr>\n",
              "  </tbody>\n",
              "</table>\n",
              "</div>"
            ],
            "text/plain": [
              "col_0         is Fraud  is not Fraud\n",
              "isFraud                             \n",
              "is Fraud           175            46\n",
              "is not Fraud         6        209488"
            ]
          },
          "execution_count": 57,
          "metadata": {},
          "output_type": "execute_result"
        }
      ],
      "source": [
        "pd.crosstab(y_test,y_test_predict1)"
      ]
    },
    {
      "cell_type": "code",
      "execution_count": 58,
      "metadata": {
        "colab": {
          "base_uri": "https://localhost:8080/"
        },
        "id": "-G6SSRd-ied9",
        "outputId": "e826b748-dd4c-4357-887a-951f6f48fa3c"
      },
      "outputs": [
        {
          "name": "stdout",
          "output_type": "stream",
          "text": [
            "              precision    recall  f1-score   support\n",
            "\n",
            "    is Fraud       0.97      0.79      0.87       221\n",
            "is not Fraud       1.00      1.00      1.00    209494\n",
            "\n",
            "    accuracy                           1.00    209715\n",
            "   macro avg       0.98      0.90      0.94    209715\n",
            "weighted avg       1.00      1.00      1.00    209715\n",
            "\n"
          ]
        }
      ],
      "source": [
        "print(classification_report(y_test,y_test_predict1))"
      ]
    },
    {
      "cell_type": "markdown",
      "metadata": {
        "id": "0YRjrs6OdkbY"
      },
      "source": [
        "### activity2.Decision tree Classifier"
      ]
    },
    {
      "cell_type": "code",
      "execution_count": 59,
      "metadata": {
        "colab": {
          "base_uri": "https://localhost:8080/"
        },
        "id": "q3TBNEWdL4uW",
        "outputId": "982d71fb-2585-4519-c5a0-40e4f9d45d7c"
      },
      "outputs": [
        {
          "data": {
            "text/plain": [
              "0.9995899196528623"
            ]
          },
          "execution_count": 59,
          "metadata": {},
          "output_type": "execute_result"
        }
      ],
      "source": [
        "from sklearn.tree import DecisionTreeClassifier\n",
        "dtc=DecisionTreeClassifier()\n",
        "dtc.fit(x_train, y_train)\n",
        "\n",
        "y_test_predict2=dtc.predict(x_test)\n",
        "test_accuracy=accuracy_score(y_test,y_test_predict2)\n",
        "test_accuracy\n"
      ]
    },
    {
      "cell_type": "code",
      "execution_count": 60,
      "metadata": {
        "colab": {
          "base_uri": "https://localhost:8080/"
        },
        "id": "1E1f1LoLdetq",
        "outputId": "8820fbad-4687-46b0-b2cd-9f6f3e56e7d5"
      },
      "outputs": [
        {
          "data": {
            "text/plain": [
              "1.0"
            ]
          },
          "execution_count": 60,
          "metadata": {},
          "output_type": "execute_result"
        }
      ],
      "source": [
        "y_train_predict2=dtc.predict(x_train)\n",
        "train_accuracy=accuracy_score(y_train,y_train_predict2)\n",
        "train_accuracy\n"
      ]
    },
    {
      "cell_type": "code",
      "execution_count": 61,
      "metadata": {
        "colab": {
          "base_uri": "https://localhost:8080/",
          "height": 143
        },
        "id": "sk_LF1qQivO7",
        "outputId": "84c76cff-c42b-4d88-b32d-ad5e05881719"
      },
      "outputs": [
        {
          "data": {
            "text/html": [
              "<div>\n",
              "<style scoped>\n",
              "    .dataframe tbody tr th:only-of-type {\n",
              "        vertical-align: middle;\n",
              "    }\n",
              "\n",
              "    .dataframe tbody tr th {\n",
              "        vertical-align: top;\n",
              "    }\n",
              "\n",
              "    .dataframe thead th {\n",
              "        text-align: right;\n",
              "    }\n",
              "</style>\n",
              "<table border=\"1\" class=\"dataframe\">\n",
              "  <thead>\n",
              "    <tr style=\"text-align: right;\">\n",
              "      <th>col_0</th>\n",
              "      <th>is Fraud</th>\n",
              "      <th>is not Fraud</th>\n",
              "    </tr>\n",
              "    <tr>\n",
              "      <th>isFraud</th>\n",
              "      <th></th>\n",
              "      <th></th>\n",
              "    </tr>\n",
              "  </thead>\n",
              "  <tbody>\n",
              "    <tr>\n",
              "      <th>is Fraud</th>\n",
              "      <td>185</td>\n",
              "      <td>36</td>\n",
              "    </tr>\n",
              "    <tr>\n",
              "      <th>is not Fraud</th>\n",
              "      <td>50</td>\n",
              "      <td>209444</td>\n",
              "    </tr>\n",
              "  </tbody>\n",
              "</table>\n",
              "</div>"
            ],
            "text/plain": [
              "col_0         is Fraud  is not Fraud\n",
              "isFraud                             \n",
              "is Fraud           185            36\n",
              "is not Fraud        50        209444"
            ]
          },
          "execution_count": 61,
          "metadata": {},
          "output_type": "execute_result"
        }
      ],
      "source": [
        "pd.crosstab(y_test,y_test_predict2)"
      ]
    },
    {
      "cell_type": "code",
      "execution_count": 62,
      "metadata": {
        "colab": {
          "base_uri": "https://localhost:8080/"
        },
        "id": "9YxS0VJ-ivdJ",
        "outputId": "b28ecc00-f68f-4742-e08b-97ee2716c40c"
      },
      "outputs": [
        {
          "name": "stdout",
          "output_type": "stream",
          "text": [
            "              precision    recall  f1-score   support\n",
            "\n",
            "    is Fraud       0.79      0.84      0.81       221\n",
            "is not Fraud       1.00      1.00      1.00    209494\n",
            "\n",
            "    accuracy                           1.00    209715\n",
            "   macro avg       0.89      0.92      0.91    209715\n",
            "weighted avg       1.00      1.00      1.00    209715\n",
            "\n"
          ]
        }
      ],
      "source": [
        "print(classification_report(y_test,y_test_predict2))"
      ]
    },
    {
      "cell_type": "markdown",
      "metadata": {
        "id": "s2oMkaX3d9Xn"
      },
      "source": [
        "### activity3.ExtraTrees Classifier"
      ]
    },
    {
      "cell_type": "code",
      "execution_count": 63,
      "metadata": {
        "colab": {
          "base_uri": "https://localhost:8080/"
        },
        "id": "SNhcptQFd7gZ",
        "outputId": "5f013cbf-adf2-4935-9600-e05693311051"
      },
      "outputs": [
        {
          "data": {
            "text/plain": [
              "0.999747276065136"
            ]
          },
          "execution_count": 63,
          "metadata": {},
          "output_type": "execute_result"
        }
      ],
      "source": [
        "from sklearn.ensemble import ExtraTreesClassifier\n",
        "etc=ExtraTreesClassifier()\n",
        "etc.fit(x_train,y_train)\n",
        "\n",
        "y_test_predict3=etc.predict(x_test)\n",
        "test_accuracy=accuracy_score(y_test,y_test_predict3)\n",
        "test_accuracy\n"
      ]
    },
    {
      "cell_type": "code",
      "execution_count": 64,
      "metadata": {
        "colab": {
          "base_uri": "https://localhost:8080/"
        },
        "id": "smvBSkTPeD1C",
        "outputId": "d2770616-dffc-4e3b-fd1d-05949371cc42"
      },
      "outputs": [
        {
          "data": {
            "text/plain": [
              "1.0"
            ]
          },
          "execution_count": 64,
          "metadata": {},
          "output_type": "execute_result"
        }
      ],
      "source": [
        "y_train_predict3=etc.predict(x_train)\n",
        "train_accuracy=accuracy_score(y_train,y_train_predict3)\n",
        "train_accuracy\n"
      ]
    },
    {
      "cell_type": "code",
      "execution_count": 65,
      "metadata": {
        "colab": {
          "base_uri": "https://localhost:8080/",
          "height": 143
        },
        "id": "G2ZYXe6ZjGd4",
        "outputId": "bfdb8b50-5e6b-43fb-9431-2d311e423da9"
      },
      "outputs": [
        {
          "data": {
            "text/html": [
              "<div>\n",
              "<style scoped>\n",
              "    .dataframe tbody tr th:only-of-type {\n",
              "        vertical-align: middle;\n",
              "    }\n",
              "\n",
              "    .dataframe tbody tr th {\n",
              "        vertical-align: top;\n",
              "    }\n",
              "\n",
              "    .dataframe thead th {\n",
              "        text-align: right;\n",
              "    }\n",
              "</style>\n",
              "<table border=\"1\" class=\"dataframe\">\n",
              "  <thead>\n",
              "    <tr style=\"text-align: right;\">\n",
              "      <th>col_0</th>\n",
              "      <th>is Fraud</th>\n",
              "      <th>is not Fraud</th>\n",
              "    </tr>\n",
              "    <tr>\n",
              "      <th>isFraud</th>\n",
              "      <th></th>\n",
              "      <th></th>\n",
              "    </tr>\n",
              "  </thead>\n",
              "  <tbody>\n",
              "    <tr>\n",
              "      <th>is Fraud</th>\n",
              "      <td>169</td>\n",
              "      <td>52</td>\n",
              "    </tr>\n",
              "    <tr>\n",
              "      <th>is not Fraud</th>\n",
              "      <td>1</td>\n",
              "      <td>209493</td>\n",
              "    </tr>\n",
              "  </tbody>\n",
              "</table>\n",
              "</div>"
            ],
            "text/plain": [
              "col_0         is Fraud  is not Fraud\n",
              "isFraud                             \n",
              "is Fraud           169            52\n",
              "is not Fraud         1        209493"
            ]
          },
          "execution_count": 65,
          "metadata": {},
          "output_type": "execute_result"
        }
      ],
      "source": [
        "pd.crosstab(y_test,y_test_predict3)"
      ]
    },
    {
      "cell_type": "code",
      "execution_count": 66,
      "metadata": {
        "colab": {
          "base_uri": "https://localhost:8080/"
        },
        "id": "PuwIfKX4jGgh",
        "outputId": "33e95370-f2c0-4aca-f200-7fb5c0697bdc"
      },
      "outputs": [
        {
          "name": "stdout",
          "output_type": "stream",
          "text": [
            "              precision    recall  f1-score   support\n",
            "\n",
            "    is Fraud       0.99      0.76      0.86       221\n",
            "is not Fraud       1.00      1.00      1.00    209494\n",
            "\n",
            "    accuracy                           1.00    209715\n",
            "   macro avg       1.00      0.88      0.93    209715\n",
            "weighted avg       1.00      1.00      1.00    209715\n",
            "\n"
          ]
        }
      ],
      "source": [
        "print(classification_report(y_test,y_test_predict3))"
      ]
    },
    {
      "cell_type": "markdown",
      "metadata": {
        "id": "3HW6v4PCWz1q"
      },
      "source": [
        "### activity4. SupportVectorMachine Classifier"
      ]
    },
    {
      "cell_type": "code",
      "execution_count": 67,
      "metadata": {
        "colab": {
          "base_uri": "https://localhost:8080/"
        },
        "id": "esQF0-kfWz1q",
        "outputId": "6e78654b-a1df-4256-d098-863929b53c5a"
      },
      "outputs": [
        {
          "data": {
            "text/plain": [
              "0.9991750709295949"
            ]
          },
          "execution_count": 67,
          "metadata": {},
          "output_type": "execute_result"
        }
      ],
      "source": [
        "from sklearn.svm import SVC\n",
        "from sklearn.metrics import accuracy_score\n",
        "svc= SVC()\n",
        "svc.fit(x_train,y_train)\n",
        "y_test_predict4=svc.predict(x_test)\n",
        "test_accuracy=accuracy_score(y_test,y_test_predict4)\n",
        "test_accuracy"
      ]
    },
    {
      "cell_type": "code",
      "execution_count": 68,
      "metadata": {
        "colab": {
          "base_uri": "https://localhost:8080/"
        },
        "id": "5RElMYvrWz1q",
        "outputId": "57fd7c09-e3b3-4192-d97d-84defbc1ecf4"
      },
      "outputs": [
        {
          "data": {
            "text/plain": [
              "0.9991166583220085"
            ]
          },
          "execution_count": 68,
          "metadata": {},
          "output_type": "execute_result"
        }
      ],
      "source": [
        "y_train_predict4=svc.predict(x_train)\n",
        "train_accuracy=accuracy_score(y_train,y_train_predict4)\n",
        "train_accuracy"
      ]
    },
    {
      "cell_type": "code",
      "execution_count": 69,
      "metadata": {
        "colab": {
          "base_uri": "https://localhost:8080/",
          "height": 143
        },
        "id": "3l6f6HIoWz1q",
        "outputId": "c9f119c5-5db5-439d-c8ea-36db7dcd4f51"
      },
      "outputs": [
        {
          "data": {
            "text/html": [
              "<div>\n",
              "<style scoped>\n",
              "    .dataframe tbody tr th:only-of-type {\n",
              "        vertical-align: middle;\n",
              "    }\n",
              "\n",
              "    .dataframe tbody tr th {\n",
              "        vertical-align: top;\n",
              "    }\n",
              "\n",
              "    .dataframe thead th {\n",
              "        text-align: right;\n",
              "    }\n",
              "</style>\n",
              "<table border=\"1\" class=\"dataframe\">\n",
              "  <thead>\n",
              "    <tr style=\"text-align: right;\">\n",
              "      <th>col_0</th>\n",
              "      <th>is Fraud</th>\n",
              "      <th>is not Fraud</th>\n",
              "    </tr>\n",
              "    <tr>\n",
              "      <th>isFraud</th>\n",
              "      <th></th>\n",
              "      <th></th>\n",
              "    </tr>\n",
              "  </thead>\n",
              "  <tbody>\n",
              "    <tr>\n",
              "      <th>is Fraud</th>\n",
              "      <td>49</td>\n",
              "      <td>172</td>\n",
              "    </tr>\n",
              "    <tr>\n",
              "      <th>is not Fraud</th>\n",
              "      <td>1</td>\n",
              "      <td>209493</td>\n",
              "    </tr>\n",
              "  </tbody>\n",
              "</table>\n",
              "</div>"
            ],
            "text/plain": [
              "col_0         is Fraud  is not Fraud\n",
              "isFraud                             \n",
              "is Fraud            49           172\n",
              "is not Fraud         1        209493"
            ]
          },
          "execution_count": 69,
          "metadata": {},
          "output_type": "execute_result"
        }
      ],
      "source": [
        "pd.crosstab(y_test,y_test_predict4)"
      ]
    },
    {
      "cell_type": "code",
      "execution_count": 70,
      "metadata": {
        "colab": {
          "base_uri": "https://localhost:8080/"
        },
        "id": "TZoNdQ13Wz1q",
        "outputId": "5d8e6802-92d5-433e-afbd-1965b7c3e113"
      },
      "outputs": [
        {
          "name": "stdout",
          "output_type": "stream",
          "text": [
            "              precision    recall  f1-score   support\n",
            "\n",
            "    is Fraud       0.98      0.22      0.36       221\n",
            "is not Fraud       1.00      1.00      1.00    209494\n",
            "\n",
            "    accuracy                           1.00    209715\n",
            "   macro avg       0.99      0.61      0.68    209715\n",
            "weighted avg       1.00      1.00      1.00    209715\n",
            "\n"
          ]
        }
      ],
      "source": [
        "from sklearn.metrics import classification_report,confusion_matrix\n",
        "print(classification_report(y_test,y_test_predict4))"
      ]
    },
    {
      "cell_type": "code",
      "execution_count": 74,
      "metadata": {
        "colab": {
          "base_uri": "https://localhost:8080/"
        },
        "id": "qROShJZ9Wz1r",
        "outputId": "45db374f-e3a3-493e-d421-bb6a50bf4616"
      },
      "outputs": [
        {
          "data": {
            "text/plain": [
              "Index(['step', 'type', 'amount', 'oldbalanceOrg', 'newbalanceOrig',\n",
              "       'oldbalanceDest', 'newbalanceDest', 'isFraud'],\n",
              "      dtype='object')"
            ]
          },
          "execution_count": 74,
          "metadata": {},
          "output_type": "execute_result"
        }
      ],
      "source": [
        "df.columns"
      ]
    },
    {
      "cell_type": "code",
      "execution_count": 71,
      "metadata": {
        "id": "OVZno1sxWz1r"
      },
      "outputs": [],
      "source": [
        "from sklearn.preprocessing import LabelEncoder\n",
        "\n",
        "la = LabelEncoder()\n",
        "y_train1 = la.fit_transform(y_train)"
      ]
    },
    {
      "cell_type": "code",
      "execution_count": 72,
      "metadata": {
        "id": "8jH0881dWz1r"
      },
      "outputs": [],
      "source": [
        "y_test1=la.transform(y_test)"
      ]
    },
    {
      "cell_type": "code",
      "execution_count": 73,
      "metadata": {
        "colab": {
          "base_uri": "https://localhost:8080/"
        },
        "id": "IgcImFtyWz1r",
        "outputId": "0d60c260-1003-4714-a5af-9bf3534302df"
      },
      "outputs": [
        {
          "data": {
            "text/plain": [
              "array([1, 1, 1, ..., 1, 1, 1])"
            ]
          },
          "execution_count": 73,
          "metadata": {},
          "output_type": "execute_result"
        }
      ],
      "source": [
        "y_test1"
      ]
    },
    {
      "cell_type": "code",
      "execution_count": 74,
      "metadata": {
        "colab": {
          "base_uri": "https://localhost:8080/"
        },
        "id": "-9eIjRrfWz1r",
        "outputId": "ae3401a1-df1d-4c15-bccc-298737cd23d5"
      },
      "outputs": [
        {
          "data": {
            "text/plain": [
              "array([1, 1, 1, ..., 1, 1, 1])"
            ]
          },
          "execution_count": 74,
          "metadata": {},
          "output_type": "execute_result"
        }
      ],
      "source": [
        "y_train1"
      ]
    },
    {
      "cell_type": "markdown",
      "metadata": {
        "id": "D-tl7eqT2eWe"
      },
      "source": [
        "### activity5.xgboost Classifier"
      ]
    },
    {
      "cell_type": "code",
      "execution_count": 75,
      "metadata": {
        "colab": {
          "base_uri": "https://localhost:8080/"
        },
        "id": "ycFgOQu32opP",
        "outputId": "178da49d-09d7-463c-8ad0-02d0c17b0996"
      },
      "outputs": [
        {
          "data": {
            "text/plain": [
              "0.9998188017070787"
            ]
          },
          "execution_count": 75,
          "metadata": {},
          "output_type": "execute_result"
        }
      ],
      "source": [
        "import xgboost as xgb\n",
        "xgb1 = xgb.XGBClassifier()\n",
        "xgb1.fit(x_train, y_train1)\n",
        "\n",
        "y_test_predict5=xgb1.predict(x_test)\n",
        "test_accuracy=accuracy_score(y_test1,y_test_predict5)\n",
        "test_accuracy\n"
      ]
    },
    {
      "cell_type": "code",
      "execution_count": 76,
      "metadata": {
        "colab": {
          "base_uri": "https://localhost:8080/"
        },
        "id": "AdwYFLJ12svr",
        "outputId": "aef8fb16-b99c-42c1-e772-8a3a0fc0711e"
      },
      "outputs": [
        {
          "data": {
            "text/plain": [
              "0.9999606608969316"
            ]
          },
          "execution_count": 76,
          "metadata": {},
          "output_type": "execute_result"
        }
      ],
      "source": [
        "y_train_predict5=xgb1.predict(x_train)\n",
        "train_accuracy=accuracy_score(y_train1,y_train_predict5)\n",
        "train_accuracy\n"
      ]
    },
    {
      "cell_type": "code",
      "execution_count": 77,
      "metadata": {
        "colab": {
          "base_uri": "https://localhost:8080/",
          "height": 143
        },
        "id": "LzleFShzWz1s",
        "outputId": "afb5c2fa-230b-41ee-a112-cedbc2d56665"
      },
      "outputs": [
        {
          "data": {
            "text/html": [
              "<div>\n",
              "<style scoped>\n",
              "    .dataframe tbody tr th:only-of-type {\n",
              "        vertical-align: middle;\n",
              "    }\n",
              "\n",
              "    .dataframe tbody tr th {\n",
              "        vertical-align: top;\n",
              "    }\n",
              "\n",
              "    .dataframe thead th {\n",
              "        text-align: right;\n",
              "    }\n",
              "</style>\n",
              "<table border=\"1\" class=\"dataframe\">\n",
              "  <thead>\n",
              "    <tr style=\"text-align: right;\">\n",
              "      <th>col_0</th>\n",
              "      <th>0</th>\n",
              "      <th>1</th>\n",
              "    </tr>\n",
              "    <tr>\n",
              "      <th>row_0</th>\n",
              "      <th></th>\n",
              "      <th></th>\n",
              "    </tr>\n",
              "  </thead>\n",
              "  <tbody>\n",
              "    <tr>\n",
              "      <th>0</th>\n",
              "      <td>186</td>\n",
              "      <td>35</td>\n",
              "    </tr>\n",
              "    <tr>\n",
              "      <th>1</th>\n",
              "      <td>3</td>\n",
              "      <td>209491</td>\n",
              "    </tr>\n",
              "  </tbody>\n",
              "</table>\n",
              "</div>"
            ],
            "text/plain": [
              "col_0    0       1\n",
              "row_0             \n",
              "0      186      35\n",
              "1        3  209491"
            ]
          },
          "execution_count": 77,
          "metadata": {},
          "output_type": "execute_result"
        }
      ],
      "source": [
        "pd.crosstab(y_test1,y_test_predict5)"
      ]
    },
    {
      "cell_type": "code",
      "execution_count": 78,
      "metadata": {
        "colab": {
          "base_uri": "https://localhost:8080/"
        },
        "id": "FSqfIuj4Wz1s",
        "outputId": "7316e039-43ba-4ccf-acf9-a3da4526f969"
      },
      "outputs": [
        {
          "name": "stdout",
          "output_type": "stream",
          "text": [
            "              precision    recall  f1-score   support\n",
            "\n",
            "           0       0.98      0.84      0.91       221\n",
            "           1       1.00      1.00      1.00    209494\n",
            "\n",
            "    accuracy                           1.00    209715\n",
            "   macro avg       0.99      0.92      0.95    209715\n",
            "weighted avg       1.00      1.00      1.00    209715\n",
            "\n"
          ]
        }
      ],
      "source": [
        "from sklearn.metrics import classification_report,confusion_matrix\n",
        "print(classification_report(y_test1,y_test_predict5))"
      ]
    },
    {
      "cell_type": "markdown",
      "metadata": {
        "id": "Q2iljX-RWz1t"
      },
      "source": [
        "### Compare Models"
      ]
    },
    {
      "cell_type": "code",
      "execution_count": 79,
      "metadata": {
        "id": "57RlntDLWz1t"
      },
      "outputs": [],
      "source": [
        "def compareModel():\n",
        "    print(\"train accuracy for rfc\",accuracy_score(y_train_predict1,y_train))\n",
        "    print(\"test accuracy for rfc\",accuracy_score(y_test_predict1,y_test))\n",
        "    print(\"train accuracy for dtc\",accuracy_score(y_train_predict2,y_train))\n",
        "    print(\"test accuracy for dtc\",accuracy_score(y_test_predict2,y_test))\n",
        "    print(\"train accuracy for etc\",accuracy_score(y_train_predict3,y_train))\n",
        "    print(\"test accuracy for etc\",accuracy_score(y_test_predict3,y_test))\n",
        "    print(\"train accuracy for svc\",accuracy_score(y_train_predict4,y_train))\n",
        "    print(\"test accuracy for svcc\",accuracy_score(y_test_predict4,y_test))\n",
        "    print(\"train accuracy for xgb1\",accuracy_score(y_train_predict5,y_train1))\n",
        "    print(\"test accuracy for xgb1\",accuracy_score(y_test_predict5,y_test1))"
      ]
    },
    {
      "cell_type": "code",
      "execution_count": 80,
      "metadata": {
        "colab": {
          "base_uri": "https://localhost:8080/"
        },
        "id": "Ps-M5TBXWz1t",
        "outputId": "d64277eb-c338-4f6e-8345-f00d2b812a4a"
      },
      "outputs": [
        {
          "name": "stdout",
          "output_type": "stream",
          "text": [
            "train accuracy for rfc 1.0\n",
            "test accuracy for rfc 0.9997520444412655\n",
            "train accuracy for dtc 1.0\n",
            "test accuracy for dtc 0.9995899196528623\n",
            "train accuracy for etc 1.0\n",
            "test accuracy for etc 0.999747276065136\n",
            "train accuracy for svc 0.9991166583220085\n",
            "test accuracy for svcc 0.9991750709295949\n",
            "train accuracy for xgb1 0.9999606608969316\n",
            "test accuracy for xgb1 0.9998188017070787\n"
          ]
        }
      ],
      "source": [
        "compareModel()"
      ]
    },
    {
      "cell_type": "code",
      "execution_count": 81,
      "metadata": {
        "id": "3Fui9c0d2sgQ"
      },
      "outputs": [],
      "source": [
        "import pickle\n",
        "pickle.dump(svc,open('payments.pkl','wb'))"
      ]
    },
    {
      "cell_type": "code",
      "execution_count": 83,
      "metadata": {
        "colab": {
          "base_uri": "https://localhost:8080/",
          "height": 36
        },
        "id": "FlqEcS8SWz1t",
        "outputId": "2b7bf3ba-45ca-4705-d300-2526e2e9c9d1"
      },
      "outputs": [
        {
          "data": {
            "text/plain": [
              "'d:\\\\'"
            ]
          },
          "execution_count": 83,
          "metadata": {},
          "output_type": "execute_result"
        }
      ],
      "source": [
        "pwd"
      ]
    },
    {
      "cell_type": "code",
      "execution_count": 84,
      "metadata": {
        "colab": {
          "base_uri": "https://localhost:8080/",
          "height": 676
        },
        "id": "OGBUck39Wz1t",
        "outputId": "e572292c-a461-40b9-f372-8a66f2636787"
      },
      "outputs": [
        {
          "data": {
            "text/html": [
              "<div>\n",
              "<style scoped>\n",
              "    .dataframe tbody tr th:only-of-type {\n",
              "        vertical-align: middle;\n",
              "    }\n",
              "\n",
              "    .dataframe tbody tr th {\n",
              "        vertical-align: top;\n",
              "    }\n",
              "\n",
              "    .dataframe thead th {\n",
              "        text-align: right;\n",
              "    }\n",
              "</style>\n",
              "<table border=\"1\" class=\"dataframe\">\n",
              "  <thead>\n",
              "    <tr style=\"text-align: right;\">\n",
              "      <th></th>\n",
              "      <th>step</th>\n",
              "      <th>type</th>\n",
              "      <th>amount</th>\n",
              "      <th>oldbalanceOrg</th>\n",
              "      <th>newbalanceOrig</th>\n",
              "      <th>oldbalanceDest</th>\n",
              "      <th>newbalanceDest</th>\n",
              "      <th>isFraud</th>\n",
              "    </tr>\n",
              "  </thead>\n",
              "  <tbody>\n",
              "    <tr>\n",
              "      <th>0</th>\n",
              "      <td>1</td>\n",
              "      <td>3</td>\n",
              "      <td>9.194174</td>\n",
              "      <td>170136.00</td>\n",
              "      <td>160296.36</td>\n",
              "      <td>0.0</td>\n",
              "      <td>0.00</td>\n",
              "      <td>is not Fraud</td>\n",
              "    </tr>\n",
              "    <tr>\n",
              "      <th>1</th>\n",
              "      <td>1</td>\n",
              "      <td>3</td>\n",
              "      <td>7.530630</td>\n",
              "      <td>21249.00</td>\n",
              "      <td>19384.72</td>\n",
              "      <td>0.0</td>\n",
              "      <td>0.00</td>\n",
              "      <td>is not Fraud</td>\n",
              "    </tr>\n",
              "    <tr>\n",
              "      <th>2</th>\n",
              "      <td>1</td>\n",
              "      <td>4</td>\n",
              "      <td>5.198497</td>\n",
              "      <td>181.00</td>\n",
              "      <td>0.00</td>\n",
              "      <td>0.0</td>\n",
              "      <td>0.00</td>\n",
              "      <td>is Fraud</td>\n",
              "    </tr>\n",
              "    <tr>\n",
              "      <th>3</th>\n",
              "      <td>1</td>\n",
              "      <td>1</td>\n",
              "      <td>5.198497</td>\n",
              "      <td>181.00</td>\n",
              "      <td>0.00</td>\n",
              "      <td>21182.0</td>\n",
              "      <td>0.00</td>\n",
              "      <td>is Fraud</td>\n",
              "    </tr>\n",
              "    <tr>\n",
              "      <th>4</th>\n",
              "      <td>1</td>\n",
              "      <td>3</td>\n",
              "      <td>9.364617</td>\n",
              "      <td>41554.00</td>\n",
              "      <td>29885.86</td>\n",
              "      <td>0.0</td>\n",
              "      <td>0.00</td>\n",
              "      <td>is not Fraud</td>\n",
              "    </tr>\n",
              "    <tr>\n",
              "      <th>5</th>\n",
              "      <td>1</td>\n",
              "      <td>3</td>\n",
              "      <td>8.964147</td>\n",
              "      <td>53860.00</td>\n",
              "      <td>46042.29</td>\n",
              "      <td>0.0</td>\n",
              "      <td>0.00</td>\n",
              "      <td>is not Fraud</td>\n",
              "    </tr>\n",
              "    <tr>\n",
              "      <th>6</th>\n",
              "      <td>1</td>\n",
              "      <td>3</td>\n",
              "      <td>8.868944</td>\n",
              "      <td>183195.00</td>\n",
              "      <td>176087.23</td>\n",
              "      <td>0.0</td>\n",
              "      <td>0.00</td>\n",
              "      <td>is not Fraud</td>\n",
              "    </tr>\n",
              "    <tr>\n",
              "      <th>7</th>\n",
              "      <td>1</td>\n",
              "      <td>3</td>\n",
              "      <td>8.969751</td>\n",
              "      <td>176087.23</td>\n",
              "      <td>168225.59</td>\n",
              "      <td>0.0</td>\n",
              "      <td>0.00</td>\n",
              "      <td>is not Fraud</td>\n",
              "    </tr>\n",
              "    <tr>\n",
              "      <th>8</th>\n",
              "      <td>1</td>\n",
              "      <td>3</td>\n",
              "      <td>8.300121</td>\n",
              "      <td>2671.00</td>\n",
              "      <td>0.00</td>\n",
              "      <td>0.0</td>\n",
              "      <td>0.00</td>\n",
              "      <td>is not Fraud</td>\n",
              "    </tr>\n",
              "    <tr>\n",
              "      <th>9</th>\n",
              "      <td>1</td>\n",
              "      <td>2</td>\n",
              "      <td>8.582563</td>\n",
              "      <td>41720.00</td>\n",
              "      <td>36382.23</td>\n",
              "      <td>41898.0</td>\n",
              "      <td>40348.79</td>\n",
              "      <td>is not Fraud</td>\n",
              "    </tr>\n",
              "    <tr>\n",
              "      <th>10</th>\n",
              "      <td>1</td>\n",
              "      <td>2</td>\n",
              "      <td>9.174189</td>\n",
              "      <td>4465.00</td>\n",
              "      <td>0.00</td>\n",
              "      <td>10845.0</td>\n",
              "      <td>157982.12</td>\n",
              "      <td>is not Fraud</td>\n",
              "    </tr>\n",
              "    <tr>\n",
              "      <th>11</th>\n",
              "      <td>1</td>\n",
              "      <td>3</td>\n",
              "      <td>8.039148</td>\n",
              "      <td>20771.00</td>\n",
              "      <td>17671.03</td>\n",
              "      <td>0.0</td>\n",
              "      <td>0.00</td>\n",
              "      <td>is not Fraud</td>\n",
              "    </tr>\n",
              "    <tr>\n",
              "      <th>12</th>\n",
              "      <td>1</td>\n",
              "      <td>3</td>\n",
              "      <td>7.848052</td>\n",
              "      <td>5070.00</td>\n",
              "      <td>2509.26</td>\n",
              "      <td>0.0</td>\n",
              "      <td>0.00</td>\n",
              "      <td>is not Fraud</td>\n",
              "    </tr>\n",
              "    <tr>\n",
              "      <th>13</th>\n",
              "      <td>1</td>\n",
              "      <td>3</td>\n",
              "      <td>9.361666</td>\n",
              "      <td>10127.00</td>\n",
              "      <td>0.00</td>\n",
              "      <td>0.0</td>\n",
              "      <td>0.00</td>\n",
              "      <td>is not Fraud</td>\n",
              "    </tr>\n",
              "    <tr>\n",
              "      <th>14</th>\n",
              "      <td>1</td>\n",
              "      <td>3</td>\n",
              "      <td>8.318445</td>\n",
              "      <td>503264.00</td>\n",
              "      <td>499165.22</td>\n",
              "      <td>0.0</td>\n",
              "      <td>0.00</td>\n",
              "      <td>is not Fraud</td>\n",
              "    </tr>\n",
              "    <tr>\n",
              "      <th>15</th>\n",
              "      <td>1</td>\n",
              "      <td>1</td>\n",
              "      <td>12.342062</td>\n",
              "      <td>15325.00</td>\n",
              "      <td>0.00</td>\n",
              "      <td>5083.0</td>\n",
              "      <td>51513.44</td>\n",
              "      <td>is not Fraud</td>\n",
              "    </tr>\n",
              "    <tr>\n",
              "      <th>16</th>\n",
              "      <td>1</td>\n",
              "      <td>3</td>\n",
              "      <td>7.354887</td>\n",
              "      <td>450.00</td>\n",
              "      <td>0.00</td>\n",
              "      <td>0.0</td>\n",
              "      <td>0.00</td>\n",
              "      <td>is not Fraud</td>\n",
              "    </tr>\n",
              "    <tr>\n",
              "      <th>17</th>\n",
              "      <td>1</td>\n",
              "      <td>3</td>\n",
              "      <td>7.054329</td>\n",
              "      <td>21156.00</td>\n",
              "      <td>19998.14</td>\n",
              "      <td>0.0</td>\n",
              "      <td>0.00</td>\n",
              "      <td>is not Fraud</td>\n",
              "    </tr>\n",
              "    <tr>\n",
              "      <th>18</th>\n",
              "      <td>1</td>\n",
              "      <td>3</td>\n",
              "      <td>6.509722</td>\n",
              "      <td>15123.00</td>\n",
              "      <td>14451.36</td>\n",
              "      <td>0.0</td>\n",
              "      <td>0.00</td>\n",
              "      <td>is not Fraud</td>\n",
              "    </tr>\n",
              "    <tr>\n",
              "      <th>19</th>\n",
              "      <td>1</td>\n",
              "      <td>4</td>\n",
              "      <td>12.279836</td>\n",
              "      <td>705.00</td>\n",
              "      <td>0.00</td>\n",
              "      <td>22425.0</td>\n",
              "      <td>0.00</td>\n",
              "      <td>is not Fraud</td>\n",
              "    </tr>\n",
              "  </tbody>\n",
              "</table>\n",
              "</div>"
            ],
            "text/plain": [
              "    step  type     amount  oldbalanceOrg  newbalanceOrig  oldbalanceDest  \\\n",
              "0      1     3   9.194174      170136.00       160296.36             0.0   \n",
              "1      1     3   7.530630       21249.00        19384.72             0.0   \n",
              "2      1     4   5.198497         181.00            0.00             0.0   \n",
              "3      1     1   5.198497         181.00            0.00         21182.0   \n",
              "4      1     3   9.364617       41554.00        29885.86             0.0   \n",
              "5      1     3   8.964147       53860.00        46042.29             0.0   \n",
              "6      1     3   8.868944      183195.00       176087.23             0.0   \n",
              "7      1     3   8.969751      176087.23       168225.59             0.0   \n",
              "8      1     3   8.300121        2671.00            0.00             0.0   \n",
              "9      1     2   8.582563       41720.00        36382.23         41898.0   \n",
              "10     1     2   9.174189        4465.00            0.00         10845.0   \n",
              "11     1     3   8.039148       20771.00        17671.03             0.0   \n",
              "12     1     3   7.848052        5070.00         2509.26             0.0   \n",
              "13     1     3   9.361666       10127.00            0.00             0.0   \n",
              "14     1     3   8.318445      503264.00       499165.22             0.0   \n",
              "15     1     1  12.342062       15325.00            0.00          5083.0   \n",
              "16     1     3   7.354887         450.00            0.00             0.0   \n",
              "17     1     3   7.054329       21156.00        19998.14             0.0   \n",
              "18     1     3   6.509722       15123.00        14451.36             0.0   \n",
              "19     1     4  12.279836         705.00            0.00         22425.0   \n",
              "\n",
              "    newbalanceDest       isFraud  \n",
              "0             0.00  is not Fraud  \n",
              "1             0.00  is not Fraud  \n",
              "2             0.00      is Fraud  \n",
              "3             0.00      is Fraud  \n",
              "4             0.00  is not Fraud  \n",
              "5             0.00  is not Fraud  \n",
              "6             0.00  is not Fraud  \n",
              "7             0.00  is not Fraud  \n",
              "8             0.00  is not Fraud  \n",
              "9         40348.79  is not Fraud  \n",
              "10       157982.12  is not Fraud  \n",
              "11            0.00  is not Fraud  \n",
              "12            0.00  is not Fraud  \n",
              "13            0.00  is not Fraud  \n",
              "14            0.00  is not Fraud  \n",
              "15        51513.44  is not Fraud  \n",
              "16            0.00  is not Fraud  \n",
              "17            0.00  is not Fraud  \n",
              "18            0.00  is not Fraud  \n",
              "19            0.00  is not Fraud  "
            ]
          },
          "execution_count": 84,
          "metadata": {},
          "output_type": "execute_result"
        }
      ],
      "source": [
        "df.head(20)"
      ]
    },
    {
      "cell_type": "code",
      "execution_count": 85,
      "metadata": {
        "colab": {
          "base_uri": "https://localhost:8080/",
          "height": 676
        },
        "id": "4QrYZwmxWz1u",
        "outputId": "f127f7ca-feeb-40b0-9223-47e8632b0d05"
      },
      "outputs": [
        {
          "data": {
            "text/html": [
              "<div>\n",
              "<style scoped>\n",
              "    .dataframe tbody tr th:only-of-type {\n",
              "        vertical-align: middle;\n",
              "    }\n",
              "\n",
              "    .dataframe tbody tr th {\n",
              "        vertical-align: top;\n",
              "    }\n",
              "\n",
              "    .dataframe thead th {\n",
              "        text-align: right;\n",
              "    }\n",
              "</style>\n",
              "<table border=\"1\" class=\"dataframe\">\n",
              "  <thead>\n",
              "    <tr style=\"text-align: right;\">\n",
              "      <th></th>\n",
              "      <th>step</th>\n",
              "      <th>type</th>\n",
              "      <th>amount</th>\n",
              "      <th>oldbalanceOrg</th>\n",
              "      <th>newbalanceOrig</th>\n",
              "      <th>oldbalanceDest</th>\n",
              "      <th>newbalanceDest</th>\n",
              "      <th>isFraud</th>\n",
              "    </tr>\n",
              "  </thead>\n",
              "  <tbody>\n",
              "    <tr>\n",
              "      <th>1048555</th>\n",
              "      <td>95</td>\n",
              "      <td>3</td>\n",
              "      <td>9.386033</td>\n",
              "      <td>20304.00</td>\n",
              "      <td>8383.28</td>\n",
              "      <td>0.00</td>\n",
              "      <td>0.00</td>\n",
              "      <td>is not Fraud</td>\n",
              "    </tr>\n",
              "    <tr>\n",
              "      <th>1048556</th>\n",
              "      <td>95</td>\n",
              "      <td>3</td>\n",
              "      <td>8.785393</td>\n",
              "      <td>29467.00</td>\n",
              "      <td>22928.96</td>\n",
              "      <td>0.00</td>\n",
              "      <td>0.00</td>\n",
              "      <td>is not Fraud</td>\n",
              "    </tr>\n",
              "    <tr>\n",
              "      <th>1048557</th>\n",
              "      <td>95</td>\n",
              "      <td>3</td>\n",
              "      <td>10.164461</td>\n",
              "      <td>51929.00</td>\n",
              "      <td>25965.13</td>\n",
              "      <td>0.00</td>\n",
              "      <td>0.00</td>\n",
              "      <td>is not Fraud</td>\n",
              "    </tr>\n",
              "    <tr>\n",
              "      <th>1048558</th>\n",
              "      <td>95</td>\n",
              "      <td>1</td>\n",
              "      <td>10.186235</td>\n",
              "      <td>104187.00</td>\n",
              "      <td>77651.59</td>\n",
              "      <td>205460.26</td>\n",
              "      <td>231995.66</td>\n",
              "      <td>is not Fraud</td>\n",
              "    </tr>\n",
              "    <tr>\n",
              "      <th>1048559</th>\n",
              "      <td>95</td>\n",
              "      <td>3</td>\n",
              "      <td>8.985558</td>\n",
              "      <td>44696.00</td>\n",
              "      <td>36709.10</td>\n",
              "      <td>0.00</td>\n",
              "      <td>0.00</td>\n",
              "      <td>is not Fraud</td>\n",
              "    </tr>\n",
              "    <tr>\n",
              "      <th>1048560</th>\n",
              "      <td>95</td>\n",
              "      <td>0</td>\n",
              "      <td>11.638787</td>\n",
              "      <td>41533.00</td>\n",
              "      <td>154945.53</td>\n",
              "      <td>565908.33</td>\n",
              "      <td>452495.80</td>\n",
              "      <td>is not Fraud</td>\n",
              "    </tr>\n",
              "    <tr>\n",
              "      <th>1048561</th>\n",
              "      <td>95</td>\n",
              "      <td>2</td>\n",
              "      <td>8.972195</td>\n",
              "      <td>31489.00</td>\n",
              "      <td>23608.12</td>\n",
              "      <td>18700000.00</td>\n",
              "      <td>18700000.00</td>\n",
              "      <td>is not Fraud</td>\n",
              "    </tr>\n",
              "    <tr>\n",
              "      <th>1048562</th>\n",
              "      <td>95</td>\n",
              "      <td>0</td>\n",
              "      <td>10.535940</td>\n",
              "      <td>102.00</td>\n",
              "      <td>37746.42</td>\n",
              "      <td>21209.96</td>\n",
              "      <td>0.00</td>\n",
              "      <td>is not Fraud</td>\n",
              "    </tr>\n",
              "    <tr>\n",
              "      <th>1048563</th>\n",
              "      <td>95</td>\n",
              "      <td>3</td>\n",
              "      <td>9.150033</td>\n",
              "      <td>20216.00</td>\n",
              "      <td>10801.25</td>\n",
              "      <td>0.00</td>\n",
              "      <td>0.00</td>\n",
              "      <td>is not Fraud</td>\n",
              "    </tr>\n",
              "    <tr>\n",
              "      <th>1048564</th>\n",
              "      <td>95</td>\n",
              "      <td>3</td>\n",
              "      <td>8.561687</td>\n",
              "      <td>21184.00</td>\n",
              "      <td>15956.51</td>\n",
              "      <td>0.00</td>\n",
              "      <td>0.00</td>\n",
              "      <td>is not Fraud</td>\n",
              "    </tr>\n",
              "    <tr>\n",
              "      <th>1048565</th>\n",
              "      <td>95</td>\n",
              "      <td>4</td>\n",
              "      <td>11.793487</td>\n",
              "      <td>15956.51</td>\n",
              "      <td>0.00</td>\n",
              "      <td>631284.08</td>\n",
              "      <td>763671.32</td>\n",
              "      <td>is not Fraud</td>\n",
              "    </tr>\n",
              "    <tr>\n",
              "      <th>1048566</th>\n",
              "      <td>95</td>\n",
              "      <td>3</td>\n",
              "      <td>9.441305</td>\n",
              "      <td>30601.00</td>\n",
              "      <td>18002.85</td>\n",
              "      <td>0.00</td>\n",
              "      <td>0.00</td>\n",
              "      <td>is not Fraud</td>\n",
              "    </tr>\n",
              "    <tr>\n",
              "      <th>1048567</th>\n",
              "      <td>95</td>\n",
              "      <td>1</td>\n",
              "      <td>12.541380</td>\n",
              "      <td>18002.85</td>\n",
              "      <td>0.00</td>\n",
              "      <td>1847488.28</td>\n",
              "      <td>2127162.32</td>\n",
              "      <td>is not Fraud</td>\n",
              "    </tr>\n",
              "    <tr>\n",
              "      <th>1048568</th>\n",
              "      <td>95</td>\n",
              "      <td>3</td>\n",
              "      <td>9.938929</td>\n",
              "      <td>49732.00</td>\n",
              "      <td>29010.46</td>\n",
              "      <td>0.00</td>\n",
              "      <td>0.00</td>\n",
              "      <td>is not Fraud</td>\n",
              "    </tr>\n",
              "    <tr>\n",
              "      <th>1048569</th>\n",
              "      <td>95</td>\n",
              "      <td>3</td>\n",
              "      <td>8.074060</td>\n",
              "      <td>11113.00</td>\n",
              "      <td>7902.89</td>\n",
              "      <td>0.00</td>\n",
              "      <td>0.00</td>\n",
              "      <td>is not Fraud</td>\n",
              "    </tr>\n",
              "    <tr>\n",
              "      <th>1048570</th>\n",
              "      <td>95</td>\n",
              "      <td>1</td>\n",
              "      <td>11.794771</td>\n",
              "      <td>479803.00</td>\n",
              "      <td>347245.65</td>\n",
              "      <td>484329.37</td>\n",
              "      <td>616886.72</td>\n",
              "      <td>is not Fraud</td>\n",
              "    </tr>\n",
              "    <tr>\n",
              "      <th>1048571</th>\n",
              "      <td>95</td>\n",
              "      <td>3</td>\n",
              "      <td>9.202042</td>\n",
              "      <td>90545.00</td>\n",
              "      <td>80627.64</td>\n",
              "      <td>0.00</td>\n",
              "      <td>0.00</td>\n",
              "      <td>is not Fraud</td>\n",
              "    </tr>\n",
              "    <tr>\n",
              "      <th>1048572</th>\n",
              "      <td>95</td>\n",
              "      <td>3</td>\n",
              "      <td>9.556766</td>\n",
              "      <td>20545.00</td>\n",
              "      <td>6404.95</td>\n",
              "      <td>0.00</td>\n",
              "      <td>0.00</td>\n",
              "      <td>is not Fraud</td>\n",
              "    </tr>\n",
              "    <tr>\n",
              "      <th>1048573</th>\n",
              "      <td>95</td>\n",
              "      <td>3</td>\n",
              "      <td>9.212343</td>\n",
              "      <td>90605.00</td>\n",
              "      <td>80584.95</td>\n",
              "      <td>0.00</td>\n",
              "      <td>0.00</td>\n",
              "      <td>is not Fraud</td>\n",
              "    </tr>\n",
              "    <tr>\n",
              "      <th>1048574</th>\n",
              "      <td>95</td>\n",
              "      <td>3</td>\n",
              "      <td>9.345748</td>\n",
              "      <td>80584.95</td>\n",
              "      <td>69134.92</td>\n",
              "      <td>0.00</td>\n",
              "      <td>0.00</td>\n",
              "      <td>is not Fraud</td>\n",
              "    </tr>\n",
              "  </tbody>\n",
              "</table>\n",
              "</div>"
            ],
            "text/plain": [
              "         step  type     amount  oldbalanceOrg  newbalanceOrig  oldbalanceDest  \\\n",
              "1048555    95     3   9.386033       20304.00         8383.28            0.00   \n",
              "1048556    95     3   8.785393       29467.00        22928.96            0.00   \n",
              "1048557    95     3  10.164461       51929.00        25965.13            0.00   \n",
              "1048558    95     1  10.186235      104187.00        77651.59       205460.26   \n",
              "1048559    95     3   8.985558       44696.00        36709.10            0.00   \n",
              "1048560    95     0  11.638787       41533.00       154945.53       565908.33   \n",
              "1048561    95     2   8.972195       31489.00        23608.12     18700000.00   \n",
              "1048562    95     0  10.535940         102.00        37746.42        21209.96   \n",
              "1048563    95     3   9.150033       20216.00        10801.25            0.00   \n",
              "1048564    95     3   8.561687       21184.00        15956.51            0.00   \n",
              "1048565    95     4  11.793487       15956.51            0.00       631284.08   \n",
              "1048566    95     3   9.441305       30601.00        18002.85            0.00   \n",
              "1048567    95     1  12.541380       18002.85            0.00      1847488.28   \n",
              "1048568    95     3   9.938929       49732.00        29010.46            0.00   \n",
              "1048569    95     3   8.074060       11113.00         7902.89            0.00   \n",
              "1048570    95     1  11.794771      479803.00       347245.65       484329.37   \n",
              "1048571    95     3   9.202042       90545.00        80627.64            0.00   \n",
              "1048572    95     3   9.556766       20545.00         6404.95            0.00   \n",
              "1048573    95     3   9.212343       90605.00        80584.95            0.00   \n",
              "1048574    95     3   9.345748       80584.95        69134.92            0.00   \n",
              "\n",
              "         newbalanceDest       isFraud  \n",
              "1048555            0.00  is not Fraud  \n",
              "1048556            0.00  is not Fraud  \n",
              "1048557            0.00  is not Fraud  \n",
              "1048558       231995.66  is not Fraud  \n",
              "1048559            0.00  is not Fraud  \n",
              "1048560       452495.80  is not Fraud  \n",
              "1048561     18700000.00  is not Fraud  \n",
              "1048562            0.00  is not Fraud  \n",
              "1048563            0.00  is not Fraud  \n",
              "1048564            0.00  is not Fraud  \n",
              "1048565       763671.32  is not Fraud  \n",
              "1048566            0.00  is not Fraud  \n",
              "1048567      2127162.32  is not Fraud  \n",
              "1048568            0.00  is not Fraud  \n",
              "1048569            0.00  is not Fraud  \n",
              "1048570       616886.72  is not Fraud  \n",
              "1048571            0.00  is not Fraud  \n",
              "1048572            0.00  is not Fraud  \n",
              "1048573            0.00  is not Fraud  \n",
              "1048574            0.00  is not Fraud  "
            ]
          },
          "execution_count": 85,
          "metadata": {},
          "output_type": "execute_result"
        }
      ],
      "source": [
        "df.tail(20)"
      ]
    },
    {
      "cell_type": "code",
      "execution_count": 86,
      "metadata": {
        "colab": {
          "base_uri": "https://localhost:8080/"
        },
        "id": "QI_wxFmiWz1u",
        "outputId": "a3a20f48-c94a-4287-b22e-adc964638439"
      },
      "outputs": [
        {
          "name": "stdout",
          "output_type": "stream",
          "text": [
            "['is not Fraud']\n"
          ]
        }
      ],
      "source": [
        "# prediction\n",
        "#features = [step,type,amount,oldbalanceOrg,newbalanceOrig,oldbalanceDest,newbalanceDest]\n",
        "features = np.array([[1,3,9.194174,170136.00,160296.36,0.0,0.00]])\n",
        "print(svc.predict(features))"
      ]
    },
    {
      "cell_type": "code",
      "execution_count": 87,
      "metadata": {
        "colab": {
          "base_uri": "https://localhost:8080/"
        },
        "id": "ukeRMFMMWz1u",
        "outputId": "1fa64167-dedc-4137-f2e8-a8eff174dad9"
      },
      "outputs": [
        {
          "name": "stdout",
          "output_type": "stream",
          "text": [
            "['is Fraud']\n"
          ]
        }
      ],
      "source": [
        "# prediction\n",
        "#features = [step,type,amount,oldbalanceOrg,newbalanceOrig,oldbalanceDest,newbalanceDest]\n",
        "features = np.array([[94,4,14.590090,2169679.91,0.0,0.00,0.00]])\n",
        "print(svc.predict(features))"
      ]
    },
    {
      "cell_type": "code",
      "execution_count": 88,
      "metadata": {
        "colab": {
          "base_uri": "https://localhost:8080/"
        },
        "id": "1ztz4xXGWz1u",
        "outputId": "9f70e8b9-c9fb-4be7-96ac-eba181c96c8f"
      },
      "outputs": [
        {
          "name": "stdout",
          "output_type": "stream",
          "text": [
            "['is not Fraud']\n"
          ]
        }
      ],
      "source": [
        "# prediction\n",
        "#features = [step,type,amount,oldbalanceOrg,newbalanceOrig,oldbalanceDest,newbalanceDest]\n",
        "features = np.array([[1,2,9.138070,11299.00,1996.21,29832.0,16896.70]])\n",
        "print(svc.predict(features))"
      ]
    },
    {
      "cell_type": "code",
      "execution_count": 89,
      "metadata": {
        "colab": {
          "base_uri": "https://localhost:8080/"
        },
        "id": "ZpY24BAJWz1u",
        "outputId": "b5439a87-79d2-4426-d69e-5394e3fb038f"
      },
      "outputs": [
        {
          "name": "stdout",
          "output_type": "stream",
          "text": [
            "['is not Fraud']\n"
          ]
        }
      ],
      "source": [
        "# prediction\n",
        "#features = [step,type,amount,oldbalanceOrg,newbalanceOrig,oldbalanceDest,newbalanceDest]\n",
        "features = np.array([[94,1,14.190236,1454592.61,0.0,264042.92,1718635.53]])\n",
        "print(svc.predict(features))"
      ]
    },
    {
      "cell_type": "code",
      "execution_count": 92,
      "metadata": {
        "id": "U2LLU4bxWz1u"
      },
      "outputs": [],
      "source": []
    },
    {
      "cell_type": "code",
      "execution_count": 92,
      "metadata": {
        "id": "EFHyqB45Wz1u"
      },
      "outputs": [],
      "source": []
    }
  ],
  "metadata": {
    "colab": {
      "provenance": []
    },
    "kernelspec": {
      "display_name": "Python 3.10.2 64-bit",
      "language": "python",
      "name": "python3"
    },
    "language_info": {
      "codemirror_mode": {
        "name": "ipython",
        "version": 3
      },
      "file_extension": ".py",
      "mimetype": "text/x-python",
      "name": "python",
      "nbconvert_exporter": "python",
      "pygments_lexer": "ipython3",
      "version": "3.10.2"
    },
    "vscode": {
      "interpreter": {
        "hash": "26de051ba29f2982a8de78e945f0abaf191376122a1563185a90213a26c5da77"
      }
    }
  },
  "nbformat": 4,
  "nbformat_minor": 0
}
